{
 "cells": [
  {
   "cell_type": "code",
   "execution_count": 314,
   "metadata": {
    "collapsed": true
   },
   "outputs": [],
   "source": [
    "import pandas as pd\n",
    "import seaborn as sns\n",
    "%matplotlib inline \n",
    "import matplotlib.pyplot as plt\n",
    "from sklearn import linear_model\n",
    "from sklearn.metrics import r2_score\n",
    "import statsmodels.api as sm\n",
    "import numpy as np\n",
    "import patsy\n",
    "from patsy import dmatrix"
   ]
  },
  {
   "cell_type": "code",
   "execution_count": 313,
   "metadata": {
    "collapsed": false
   },
   "outputs": [],
   "source": [
    "## Load the data into a DataFrame\n",
    "data = pd.read_csv('projects/weekly-projects/project-03/datasets/Iowa_Liquor_Sales_reduced.csv')\n",
    "\n",
    "## Transform the dates if needed, e.g.\n",
    "# df[\"Date\"] = pd.to_datetime(df[\"Date\"], format=\"%m/%d/%Y\")"
   ]
  },
  {
   "cell_type": "code",
   "execution_count": 322,
   "metadata": {
    "collapsed": false
   },
   "outputs": [
    {
     "data": {
      "text/plain": [
       "Date                      object\n",
       "Store Number               int64\n",
       "City                      object\n",
       "Zip Code                  object\n",
       "County Number            float64\n",
       "County                    object\n",
       "Category                 float64\n",
       "Category Name             object\n",
       "Vendor Number              int64\n",
       "Item Number                int64\n",
       "Item Description          object\n",
       "Bottle Volume (ml)         int64\n",
       "State Bottle Cost         object\n",
       "State Bottle Retail       object\n",
       "Bottles Sold               int64\n",
       "Sale (Dollars)            object\n",
       "Volume Sold (Liters)     float64\n",
       "Volume Sold (Gallons)    float64\n",
       "dtype: object"
      ]
     },
     "execution_count": 322,
     "metadata": {},
     "output_type": "execute_result"
    }
   ],
   "source": [
    "data.dtypes"
   ]
  },
  {
   "cell_type": "code",
   "execution_count": 376,
   "metadata": {
    "collapsed": true
   },
   "outputs": [],
   "source": [
    "#just deleted something from here on accident-think I fixed it. \n",
    "data['State Bottle Cost'] = data['State Bottle Cost'].str.replace('$', '').astype(float)"
   ]
  },
  {
   "cell_type": "code",
   "execution_count": 377,
   "metadata": {
    "collapsed": true
   },
   "outputs": [],
   "source": [
    "data['State Bottle Retail'] = data['State Bottle Retail'].str.replace('$', '').astype(float)"
   ]
  },
  {
   "cell_type": "code",
   "execution_count": 378,
   "metadata": {
    "collapsed": true
   },
   "outputs": [],
   "source": [
    "data['Sale (Dollars)'] = data['Sale (Dollars)'].str.replace('$', '').astype(float)"
   ]
  },
  {
   "cell_type": "code",
   "execution_count": 379,
   "metadata": {
    "collapsed": false
   },
   "outputs": [
    {
     "data": {
      "text/html": [
       "<div>\n",
       "<table border=\"1\" class=\"dataframe\">\n",
       "  <thead>\n",
       "    <tr style=\"text-align: right;\">\n",
       "      <th></th>\n",
       "      <th>Date</th>\n",
       "      <th>Store Number</th>\n",
       "      <th>City</th>\n",
       "      <th>Zip Code</th>\n",
       "      <th>County Number</th>\n",
       "      <th>County</th>\n",
       "      <th>Category</th>\n",
       "      <th>Category Name</th>\n",
       "      <th>Vendor Number</th>\n",
       "      <th>Item Number</th>\n",
       "      <th>Item Description</th>\n",
       "      <th>Bottle Volume (ml)</th>\n",
       "      <th>State Bottle Cost</th>\n",
       "      <th>State Bottle Retail</th>\n",
       "      <th>Bottles Sold</th>\n",
       "      <th>Sale (Dollars)</th>\n",
       "      <th>Volume Sold (Liters)</th>\n",
       "      <th>Volume Sold (Gallons)</th>\n",
       "    </tr>\n",
       "  </thead>\n",
       "  <tbody>\n",
       "    <tr>\n",
       "      <th>0</th>\n",
       "      <td>03/31/2016</td>\n",
       "      <td>5029</td>\n",
       "      <td>DAVENPORT</td>\n",
       "      <td>52806</td>\n",
       "      <td>82.0</td>\n",
       "      <td>Scott</td>\n",
       "      <td>1022100.0</td>\n",
       "      <td>TEQUILA</td>\n",
       "      <td>370</td>\n",
       "      <td>87152</td>\n",
       "      <td>Avion Silver</td>\n",
       "      <td>375</td>\n",
       "      <td>9.99</td>\n",
       "      <td>14.99</td>\n",
       "      <td>12</td>\n",
       "      <td>179.88</td>\n",
       "      <td>4.5</td>\n",
       "      <td>1.19</td>\n",
       "    </tr>\n",
       "    <tr>\n",
       "      <th>1</th>\n",
       "      <td>03/31/2016</td>\n",
       "      <td>5029</td>\n",
       "      <td>DAVENPORT</td>\n",
       "      <td>52806</td>\n",
       "      <td>82.0</td>\n",
       "      <td>Scott</td>\n",
       "      <td>1022100.0</td>\n",
       "      <td>TEQUILA</td>\n",
       "      <td>395</td>\n",
       "      <td>89197</td>\n",
       "      <td>Jose Cuervo Especial Reposado Tequila</td>\n",
       "      <td>1000</td>\n",
       "      <td>12.50</td>\n",
       "      <td>18.75</td>\n",
       "      <td>2</td>\n",
       "      <td>37.50</td>\n",
       "      <td>2.0</td>\n",
       "      <td>0.53</td>\n",
       "    </tr>\n",
       "    <tr>\n",
       "      <th>2</th>\n",
       "      <td>03/31/2016</td>\n",
       "      <td>4959</td>\n",
       "      <td>CEDAR FALLS</td>\n",
       "      <td>50613</td>\n",
       "      <td>7.0</td>\n",
       "      <td>Black Hawk</td>\n",
       "      <td>1071100.0</td>\n",
       "      <td>AMERICAN COCKTAILS</td>\n",
       "      <td>380</td>\n",
       "      <td>63959</td>\n",
       "      <td>Uv Blue Raspberry Lemonade Pet</td>\n",
       "      <td>1750</td>\n",
       "      <td>5.97</td>\n",
       "      <td>8.96</td>\n",
       "      <td>6</td>\n",
       "      <td>53.76</td>\n",
       "      <td>10.5</td>\n",
       "      <td>2.77</td>\n",
       "    </tr>\n",
       "    <tr>\n",
       "      <th>3</th>\n",
       "      <td>03/31/2016</td>\n",
       "      <td>2190</td>\n",
       "      <td>DES MOINES</td>\n",
       "      <td>50314</td>\n",
       "      <td>77.0</td>\n",
       "      <td>Polk</td>\n",
       "      <td>1031200.0</td>\n",
       "      <td>VODKA FLAVORED</td>\n",
       "      <td>205</td>\n",
       "      <td>40597</td>\n",
       "      <td>New Amsterdam Red Berry</td>\n",
       "      <td>200</td>\n",
       "      <td>2.24</td>\n",
       "      <td>3.36</td>\n",
       "      <td>48</td>\n",
       "      <td>161.28</td>\n",
       "      <td>9.6</td>\n",
       "      <td>2.54</td>\n",
       "    </tr>\n",
       "    <tr>\n",
       "      <th>4</th>\n",
       "      <td>03/31/2016</td>\n",
       "      <td>5240</td>\n",
       "      <td>WEST BRANCH</td>\n",
       "      <td>52358</td>\n",
       "      <td>NaN</td>\n",
       "      <td>NaN</td>\n",
       "      <td>1081200.0</td>\n",
       "      <td>CREAM LIQUEURS</td>\n",
       "      <td>305</td>\n",
       "      <td>73055</td>\n",
       "      <td>Rumchata</td>\n",
       "      <td>750</td>\n",
       "      <td>12.50</td>\n",
       "      <td>18.75</td>\n",
       "      <td>6</td>\n",
       "      <td>112.50</td>\n",
       "      <td>4.5</td>\n",
       "      <td>1.19</td>\n",
       "    </tr>\n",
       "  </tbody>\n",
       "</table>\n",
       "</div>"
      ],
      "text/plain": [
       "         Date  Store Number         City Zip Code  County Number      County  \\\n",
       "0  03/31/2016          5029    DAVENPORT    52806           82.0       Scott   \n",
       "1  03/31/2016          5029    DAVENPORT    52806           82.0       Scott   \n",
       "2  03/31/2016          4959  CEDAR FALLS    50613            7.0  Black Hawk   \n",
       "3  03/31/2016          2190   DES MOINES    50314           77.0        Polk   \n",
       "4  03/31/2016          5240  WEST BRANCH    52358            NaN         NaN   \n",
       "\n",
       "    Category       Category Name  Vendor Number  Item Number  \\\n",
       "0  1022100.0             TEQUILA            370        87152   \n",
       "1  1022100.0             TEQUILA            395        89197   \n",
       "2  1071100.0  AMERICAN COCKTAILS            380        63959   \n",
       "3  1031200.0      VODKA FLAVORED            205        40597   \n",
       "4  1081200.0      CREAM LIQUEURS            305        73055   \n",
       "\n",
       "                        Item Description  Bottle Volume (ml)  \\\n",
       "0                           Avion Silver                 375   \n",
       "1  Jose Cuervo Especial Reposado Tequila                1000   \n",
       "2         Uv Blue Raspberry Lemonade Pet                1750   \n",
       "3                New Amsterdam Red Berry                 200   \n",
       "4                               Rumchata                 750   \n",
       "\n",
       "   State Bottle Cost  State Bottle Retail  Bottles Sold  Sale (Dollars)  \\\n",
       "0               9.99                14.99            12          179.88   \n",
       "1              12.50                18.75             2           37.50   \n",
       "2               5.97                 8.96             6           53.76   \n",
       "3               2.24                 3.36            48          161.28   \n",
       "4              12.50                18.75             6          112.50   \n",
       "\n",
       "   Volume Sold (Liters)  Volume Sold (Gallons)  \n",
       "0                   4.5                   1.19  \n",
       "1                   2.0                   0.53  \n",
       "2                  10.5                   2.77  \n",
       "3                   9.6                   2.54  \n",
       "4                   4.5                   1.19  "
      ]
     },
     "execution_count": 379,
     "metadata": {},
     "output_type": "execute_result"
    }
   ],
   "source": [
    "data.head()"
   ]
  },
  {
   "cell_type": "code",
   "execution_count": 305,
   "metadata": {
    "collapsed": false
   },
   "outputs": [
    {
     "name": "stdout",
     "output_type": "stream",
     "text": [
      "       Store Number  County Number      Category  Vendor Number   Item Number  \\\n",
      "count  2.709552e+06   2.698639e+06  2.708773e+06   2.709552e+06  2.709552e+06   \n",
      "mean   3.589071e+03   5.726086e+01  1.043826e+06   2.563901e+02  4.601624e+04   \n",
      "std    9.491083e+02   2.732565e+01  5.003493e+04   1.408757e+02  5.311268e+04   \n",
      "min    2.106000e+03   1.000000e+00  1.011100e+06   1.000000e+01  1.460000e+02   \n",
      "25%    2.604000e+03            NaN           NaN   1.150000e+02  2.682800e+04   \n",
      "50%    3.721000e+03            NaN           NaN   2.600000e+02  3.817600e+04   \n",
      "75%    4.382000e+03            NaN           NaN   3.800000e+02  6.460100e+04   \n",
      "max    9.023000e+03   9.900000e+01  1.701100e+06   9.780000e+02  9.992750e+05   \n",
      "\n",
      "       Bottle Volume (ml)  Bottles Sold  Volume Sold (Liters)  \\\n",
      "count        2.709552e+06  2.709552e+06          2.709552e+06   \n",
      "mean         9.242111e+02  9.838390e+00          8.921504e+00   \n",
      "std          5.464858e+02  2.349863e+01          2.824435e+01   \n",
      "min          0.000000e+00  1.000000e+00          0.000000e+00   \n",
      "25%          7.500000e+02  2.000000e+00          1.500000e+00   \n",
      "50%          7.500000e+02  6.000000e+00          5.250000e+00   \n",
      "75%          1.000000e+03  1.200000e+01          1.050000e+01   \n",
      "max          2.250000e+05  3.960000e+03          3.960000e+03   \n",
      "\n",
      "       Volume Sold (Gallons)  \n",
      "count           2.709552e+06  \n",
      "mean            2.357017e+00  \n",
      "std             7.461356e+00  \n",
      "min             0.000000e+00  \n",
      "25%             4.000000e-01  \n",
      "50%             1.390000e+00  \n",
      "75%             2.770000e+00  \n",
      "max             1.046120e+03  \n"
     ]
    }
   ],
   "source": [
    "print data.describe()"
   ]
  },
  {
   "cell_type": "code",
   "execution_count": 284,
   "metadata": {
    "collapsed": false
   },
   "outputs": [
    {
     "data": {
      "text/plain": [
       "0    False\n",
       "1    False\n",
       "2    False\n",
       "3    False\n",
       "4     True\n",
       "5    False\n",
       "6    False\n",
       "7    False\n",
       "8    False\n",
       "9    False\n",
       "Name: County Number, dtype: bool"
      ]
     },
     "execution_count": 284,
     "metadata": {},
     "output_type": "execute_result"
    }
   ],
   "source": [
    "#shows some missing data for this column\n",
    "#can see if county number could work\n",
    "data['County Number'].isnull().head(10)"
   ]
  },
  {
   "cell_type": "code",
   "execution_count": 287,
   "metadata": {
    "collapsed": false
   },
   "outputs": [
    {
     "data": {
      "text/plain": [
       "False    2698639\n",
       "True       10913\n",
       "Name: County, dtype: int64"
      ]
     },
     "execution_count": 287,
     "metadata": {},
     "output_type": "execute_result"
    }
   ],
   "source": [
    "data['County'].isnull().value_counts()"
   ]
  },
  {
   "cell_type": "code",
   "execution_count": 282,
   "metadata": {
    "collapsed": false
   },
   "outputs": [
    {
     "data": {
      "text/plain": [
       "0    False\n",
       "1    False\n",
       "2    False\n",
       "3    False\n",
       "4     True\n",
       "Name: County, dtype: bool"
      ]
     },
     "execution_count": 282,
     "metadata": {},
     "output_type": "execute_result"
    }
   ],
   "source": [
    "#there is some missing data in this column\n",
    "#row 4 has no identifier for county\n",
    "#this would need to be dropped from dataset\n",
    "data['County'].isnull().head()"
   ]
  },
  {
   "cell_type": "code",
   "execution_count": 290,
   "metadata": {
    "collapsed": false
   },
   "outputs": [
    {
     "data": {
      "text/plain": [
       "2698639"
      ]
     },
     "execution_count": 290,
     "metadata": {},
     "output_type": "execute_result"
    }
   ],
   "source": [
    "data['County'].count()"
   ]
  },
  {
   "cell_type": "code",
   "execution_count": 291,
   "metadata": {
    "collapsed": false
   },
   "outputs": [
    {
     "data": {
      "text/plain": [
       "2687726"
      ]
     },
     "execution_count": 291,
     "metadata": {},
     "output_type": "execute_result"
    }
   ],
   "source": [
    "2698639 - 10913"
   ]
  },
  {
   "cell_type": "code",
   "execution_count": 297,
   "metadata": {
    "collapsed": false
   },
   "outputs": [
    {
     "data": {
      "text/plain": [
       "0.004043890272096416"
      ]
     },
     "execution_count": 297,
     "metadata": {},
     "output_type": "execute_result"
    }
   ],
   "source": [
    "10913 / 2698639.0"
   ]
  },
  {
   "cell_type": "code",
   "execution_count": 286,
   "metadata": {
    "collapsed": false
   },
   "outputs": [
    {
     "data": {
      "text/plain": [
       "False    2698639\n",
       "True       10913\n",
       "Name: County, dtype: int64"
      ]
     },
     "execution_count": 286,
     "metadata": {},
     "output_type": "execute_result"
    }
   ],
   "source": [
    "#there are ~10,000 missing identifiers for county in this dataset\n",
    "#accounts for 0.4% of our data. Dropping the nulls seems insignificant due to large dataset size\n",
    "data['County'].isnull().value_counts()"
   ]
  },
  {
   "cell_type": "code",
   "execution_count": 212,
   "metadata": {
    "collapsed": false
   },
   "outputs": [
    {
     "data": {
      "text/plain": [
       "Index([u'Date', u'Store Number', u'City', u'Zip Code', u'County Number',\n",
       "       u'County', u'Category', u'Category Name', u'Vendor Number',\n",
       "       u'Item Number', u'Item Description', u'Bottle Volume (ml)',\n",
       "       u'State Bottle Cost', u'State Bottle Retail', u'Bottles Sold',\n",
       "       u'Sale (Dollars)', u'Volume Sold (Liters)', u'Volume Sold (Gallons)'],\n",
       "      dtype='object')"
      ]
     },
     "execution_count": 212,
     "metadata": {},
     "output_type": "execute_result"
    }
   ],
   "source": [
    "data.columns"
   ]
  },
  {
   "cell_type": "code",
   "execution_count": 213,
   "metadata": {
    "collapsed": false
   },
   "outputs": [
    {
     "data": {
      "text/html": [
       "<div>\n",
       "<table border=\"1\" class=\"dataframe\">\n",
       "  <thead>\n",
       "    <tr style=\"text-align: right;\">\n",
       "      <th></th>\n",
       "      <th>Store Number</th>\n",
       "      <th>County Number</th>\n",
       "      <th>Category</th>\n",
       "      <th>Vendor Number</th>\n",
       "      <th>Item Number</th>\n",
       "      <th>Bottle Volume (ml)</th>\n",
       "      <th>State Bottle Cost</th>\n",
       "      <th>State Bottle Retail</th>\n",
       "      <th>Bottles Sold</th>\n",
       "      <th>Sale (Dollars)</th>\n",
       "      <th>Volume Sold (Liters)</th>\n",
       "      <th>Volume Sold (Gallons)</th>\n",
       "    </tr>\n",
       "  </thead>\n",
       "  <tbody>\n",
       "    <tr>\n",
       "      <th>count</th>\n",
       "      <td>2.709552e+06</td>\n",
       "      <td>2.698639e+06</td>\n",
       "      <td>2.708773e+06</td>\n",
       "      <td>2.709552e+06</td>\n",
       "      <td>2.709552e+06</td>\n",
       "      <td>2.709552e+06</td>\n",
       "      <td>2.709552e+06</td>\n",
       "      <td>2.709552e+06</td>\n",
       "      <td>2.709552e+06</td>\n",
       "      <td>2.709552e+06</td>\n",
       "      <td>2.709552e+06</td>\n",
       "      <td>2.709552e+06</td>\n",
       "    </tr>\n",
       "    <tr>\n",
       "      <th>mean</th>\n",
       "      <td>3.589071e+03</td>\n",
       "      <td>5.726086e+01</td>\n",
       "      <td>1.043826e+06</td>\n",
       "      <td>2.563901e+02</td>\n",
       "      <td>4.601624e+04</td>\n",
       "      <td>9.242111e+02</td>\n",
       "      <td>9.816209e+00</td>\n",
       "      <td>1.474012e+01</td>\n",
       "      <td>9.838390e+00</td>\n",
       "      <td>1.291191e+02</td>\n",
       "      <td>8.921504e+00</td>\n",
       "      <td>2.357017e+00</td>\n",
       "    </tr>\n",
       "    <tr>\n",
       "      <th>std</th>\n",
       "      <td>9.491083e+02</td>\n",
       "      <td>2.732565e+01</td>\n",
       "      <td>5.003493e+04</td>\n",
       "      <td>1.408757e+02</td>\n",
       "      <td>5.311268e+04</td>\n",
       "      <td>5.464858e+02</td>\n",
       "      <td>1.490656e+01</td>\n",
       "      <td>2.235953e+01</td>\n",
       "      <td>2.349863e+01</td>\n",
       "      <td>3.994615e+02</td>\n",
       "      <td>2.824435e+01</td>\n",
       "      <td>7.461356e+00</td>\n",
       "    </tr>\n",
       "    <tr>\n",
       "      <th>min</th>\n",
       "      <td>2.106000e+03</td>\n",
       "      <td>1.000000e+00</td>\n",
       "      <td>1.011100e+06</td>\n",
       "      <td>1.000000e+01</td>\n",
       "      <td>1.460000e+02</td>\n",
       "      <td>0.000000e+00</td>\n",
       "      <td>8.900000e-01</td>\n",
       "      <td>1.340000e+00</td>\n",
       "      <td>1.000000e+00</td>\n",
       "      <td>1.340000e+00</td>\n",
       "      <td>0.000000e+00</td>\n",
       "      <td>0.000000e+00</td>\n",
       "    </tr>\n",
       "    <tr>\n",
       "      <th>25%</th>\n",
       "      <td>2.604000e+03</td>\n",
       "      <td>NaN</td>\n",
       "      <td>NaN</td>\n",
       "      <td>1.150000e+02</td>\n",
       "      <td>2.682800e+04</td>\n",
       "      <td>7.500000e+02</td>\n",
       "      <td>5.510000e+00</td>\n",
       "      <td>8.270000e+00</td>\n",
       "      <td>2.000000e+00</td>\n",
       "      <td>3.048000e+01</td>\n",
       "      <td>1.500000e+00</td>\n",
       "      <td>4.000000e-01</td>\n",
       "    </tr>\n",
       "    <tr>\n",
       "      <th>50%</th>\n",
       "      <td>3.721000e+03</td>\n",
       "      <td>NaN</td>\n",
       "      <td>NaN</td>\n",
       "      <td>2.600000e+02</td>\n",
       "      <td>3.817600e+04</td>\n",
       "      <td>7.500000e+02</td>\n",
       "      <td>8.070000e+00</td>\n",
       "      <td>1.230000e+01</td>\n",
       "      <td>6.000000e+00</td>\n",
       "      <td>7.056000e+01</td>\n",
       "      <td>5.250000e+00</td>\n",
       "      <td>1.390000e+00</td>\n",
       "    </tr>\n",
       "    <tr>\n",
       "      <th>75%</th>\n",
       "      <td>4.382000e+03</td>\n",
       "      <td>NaN</td>\n",
       "      <td>NaN</td>\n",
       "      <td>3.800000e+02</td>\n",
       "      <td>6.460100e+04</td>\n",
       "      <td>1.000000e+03</td>\n",
       "      <td>1.196000e+01</td>\n",
       "      <td>1.794000e+01</td>\n",
       "      <td>1.200000e+01</td>\n",
       "      <td>1.350000e+02</td>\n",
       "      <td>1.050000e+01</td>\n",
       "      <td>2.770000e+00</td>\n",
       "    </tr>\n",
       "    <tr>\n",
       "      <th>max</th>\n",
       "      <td>9.023000e+03</td>\n",
       "      <td>9.900000e+01</td>\n",
       "      <td>1.701100e+06</td>\n",
       "      <td>9.780000e+02</td>\n",
       "      <td>9.992750e+05</td>\n",
       "      <td>2.250000e+05</td>\n",
       "      <td>6.468000e+03</td>\n",
       "      <td>9.702000e+03</td>\n",
       "      <td>3.960000e+03</td>\n",
       "      <td>1.063260e+05</td>\n",
       "      <td>3.960000e+03</td>\n",
       "      <td>1.046120e+03</td>\n",
       "    </tr>\n",
       "  </tbody>\n",
       "</table>\n",
       "</div>"
      ],
      "text/plain": [
       "       Store Number  County Number      Category  Vendor Number   Item Number  \\\n",
       "count  2.709552e+06   2.698639e+06  2.708773e+06   2.709552e+06  2.709552e+06   \n",
       "mean   3.589071e+03   5.726086e+01  1.043826e+06   2.563901e+02  4.601624e+04   \n",
       "std    9.491083e+02   2.732565e+01  5.003493e+04   1.408757e+02  5.311268e+04   \n",
       "min    2.106000e+03   1.000000e+00  1.011100e+06   1.000000e+01  1.460000e+02   \n",
       "25%    2.604000e+03            NaN           NaN   1.150000e+02  2.682800e+04   \n",
       "50%    3.721000e+03            NaN           NaN   2.600000e+02  3.817600e+04   \n",
       "75%    4.382000e+03            NaN           NaN   3.800000e+02  6.460100e+04   \n",
       "max    9.023000e+03   9.900000e+01  1.701100e+06   9.780000e+02  9.992750e+05   \n",
       "\n",
       "       Bottle Volume (ml)  State Bottle Cost  State Bottle Retail  \\\n",
       "count        2.709552e+06       2.709552e+06         2.709552e+06   \n",
       "mean         9.242111e+02       9.816209e+00         1.474012e+01   \n",
       "std          5.464858e+02       1.490656e+01         2.235953e+01   \n",
       "min          0.000000e+00       8.900000e-01         1.340000e+00   \n",
       "25%          7.500000e+02       5.510000e+00         8.270000e+00   \n",
       "50%          7.500000e+02       8.070000e+00         1.230000e+01   \n",
       "75%          1.000000e+03       1.196000e+01         1.794000e+01   \n",
       "max          2.250000e+05       6.468000e+03         9.702000e+03   \n",
       "\n",
       "       Bottles Sold  Sale (Dollars)  Volume Sold (Liters)  \\\n",
       "count  2.709552e+06    2.709552e+06          2.709552e+06   \n",
       "mean   9.838390e+00    1.291191e+02          8.921504e+00   \n",
       "std    2.349863e+01    3.994615e+02          2.824435e+01   \n",
       "min    1.000000e+00    1.340000e+00          0.000000e+00   \n",
       "25%    2.000000e+00    3.048000e+01          1.500000e+00   \n",
       "50%    6.000000e+00    7.056000e+01          5.250000e+00   \n",
       "75%    1.200000e+01    1.350000e+02          1.050000e+01   \n",
       "max    3.960000e+03    1.063260e+05          3.960000e+03   \n",
       "\n",
       "       Volume Sold (Gallons)  \n",
       "count           2.709552e+06  \n",
       "mean            2.357017e+00  \n",
       "std             7.461356e+00  \n",
       "min             0.000000e+00  \n",
       "25%             4.000000e-01  \n",
       "50%             1.390000e+00  \n",
       "75%             2.770000e+00  \n",
       "max             1.046120e+03  "
      ]
     },
     "execution_count": 213,
     "metadata": {},
     "output_type": "execute_result"
    }
   ],
   "source": [
    "data.describe()"
   ]
  },
  {
   "cell_type": "code",
   "execution_count": 214,
   "metadata": {
    "collapsed": false
   },
   "outputs": [],
   "source": [
    "data[\"Date\"] = pd.to_datetime(df[\"Date\"], format=\"%m/%d/%Y\")"
   ]
  },
  {
   "cell_type": "code",
   "execution_count": 215,
   "metadata": {
    "collapsed": false
   },
   "outputs": [
    {
     "data": {
      "text/plain": [
       "0   2016-03-31\n",
       "1   2016-03-31\n",
       "2   2016-03-31\n",
       "3   2016-03-31\n",
       "4   2016-03-31\n",
       "Name: Date, dtype: datetime64[ns]"
      ]
     },
     "execution_count": 215,
     "metadata": {},
     "output_type": "execute_result"
    }
   ],
   "source": [
    "data['Date'].head()"
   ]
  },
  {
   "cell_type": "code",
   "execution_count": 298,
   "metadata": {
    "collapsed": false
   },
   "outputs": [
    {
     "data": {
      "text/plain": [
       "2709552"
      ]
     },
     "execution_count": 298,
     "metadata": {},
     "output_type": "execute_result"
    }
   ],
   "source": [
    "data['Date'].count()"
   ]
  },
  {
   "cell_type": "code",
   "execution_count": 217,
   "metadata": {
    "collapsed": false
   },
   "outputs": [
    {
     "data": {
      "text/plain": [
       "count        2709552\n",
       "unique           386\n",
       "top       DES MOINES\n",
       "freq          237791\n",
       "Name: City, dtype: object"
      ]
     },
     "execution_count": 217,
     "metadata": {},
     "output_type": "execute_result"
    }
   ],
   "source": [
    "data['City'].describe()"
   ]
  },
  {
   "cell_type": "code",
   "execution_count": 218,
   "metadata": {
    "collapsed": false
   },
   "outputs": [
    {
     "data": {
      "text/plain": [
       "False"
      ]
     },
     "execution_count": 218,
     "metadata": {},
     "output_type": "execute_result"
    }
   ],
   "source": [
    "#tells you if there are missing data in column\n",
    "data['Store Number'].isnull().any()"
   ]
  },
  {
   "cell_type": "code",
   "execution_count": 219,
   "metadata": {
    "collapsed": false
   },
   "outputs": [
    {
     "data": {
      "text/plain": [
       "False"
      ]
     },
     "execution_count": 219,
     "metadata": {},
     "output_type": "execute_result"
    }
   ],
   "source": [
    "#tells you if there are missing data in column\n",
    "data['Sale (Dollars)'].isnull().any()"
   ]
  },
  {
   "cell_type": "code",
   "execution_count": 220,
   "metadata": {
    "collapsed": false
   },
   "outputs": [
    {
     "data": {
      "text/plain": [
       "False"
      ]
     },
     "execution_count": 220,
     "metadata": {},
     "output_type": "execute_result"
    }
   ],
   "source": [
    "#tells you if there are missing data in column\n",
    "data['Date'].isnull().any()"
   ]
  },
  {
   "cell_type": "code",
   "execution_count": 221,
   "metadata": {
    "collapsed": true
   },
   "outputs": [],
   "source": [
    "#Dont need to do this because I have complete data for columns I want to look at\n",
    "#on second look, I am missing some data...\n",
    "#data_drop = data.dropna()"
   ]
  },
  {
   "cell_type": "code",
   "execution_count": null,
   "metadata": {
    "collapsed": false
   },
   "outputs": [],
   "source": []
  },
  {
   "cell_type": "code",
   "execution_count": 222,
   "metadata": {
    "collapsed": false
   },
   "outputs": [
    {
     "data": {
      "text/plain": [
       "Date                     2709552\n",
       "Store Number             2709552\n",
       "City                     2709552\n",
       "Zip Code                 2709552\n",
       "County Number            2698639\n",
       "County                   2698639\n",
       "Category                 2708773\n",
       "Category Name            2703443\n",
       "Vendor Number            2709552\n",
       "Item Number              2709552\n",
       "Item Description         2709552\n",
       "Bottle Volume (ml)       2709552\n",
       "State Bottle Cost        2709552\n",
       "State Bottle Retail      2709552\n",
       "Bottles Sold             2709552\n",
       "Sale (Dollars)           2709552\n",
       "Volume Sold (Liters)     2709552\n",
       "Volume Sold (Gallons)    2709552\n",
       "dtype: int64"
      ]
     },
     "execution_count": 222,
     "metadata": {},
     "output_type": "execute_result"
    }
   ],
   "source": [
    "data.count()"
   ]
  },
  {
   "cell_type": "markdown",
   "metadata": {},
   "source": [
    "These columns contain missing data:\n",
    "County Number            2698639\n",
    "County                   2698639\n",
    "Category                 2708773\n",
    "Category Name            2703443"
   ]
  },
  {
   "cell_type": "code",
   "execution_count": 223,
   "metadata": {
    "collapsed": false
   },
   "outputs": [
    {
     "data": {
      "text/plain": [
       "(2709552, 18)"
      ]
     },
     "execution_count": 223,
     "metadata": {},
     "output_type": "execute_result"
    }
   ],
   "source": [
    "data.shape"
   ]
  },
  {
   "cell_type": "code",
   "execution_count": null,
   "metadata": {
    "collapsed": false
   },
   "outputs": [],
   "source": []
  },
  {
   "cell_type": "code",
   "execution_count": 224,
   "metadata": {
    "collapsed": false
   },
   "outputs": [
    {
     "data": {
      "text/plain": [
       "16950"
      ]
     },
     "execution_count": 224,
     "metadata": {},
     "output_type": "execute_result"
    }
   ],
   "source": [
    "#\n",
    "2709552 - 2692602"
   ]
  },
  {
   "cell_type": "code",
   "execution_count": null,
   "metadata": {
    "collapsed": false
   },
   "outputs": [],
   "source": []
  },
  {
   "cell_type": "code",
   "execution_count": 225,
   "metadata": {
    "collapsed": false
   },
   "outputs": [
    {
     "data": {
      "text/plain": [
       "Date                     datetime64[ns]\n",
       "Store Number                      int64\n",
       "City                             object\n",
       "Zip Code                         object\n",
       "County Number                   float64\n",
       "County                           object\n",
       "Category                        float64\n",
       "Category Name                    object\n",
       "Vendor Number                     int64\n",
       "Item Number                       int64\n",
       "Item Description                 object\n",
       "Bottle Volume (ml)                int64\n",
       "State Bottle Cost               float64\n",
       "State Bottle Retail             float64\n",
       "Bottles Sold                      int64\n",
       "Sale (Dollars)                  float64\n",
       "Volume Sold (Liters)            float64\n",
       "Volume Sold (Gallons)           float64\n",
       "dtype: object"
      ]
     },
     "execution_count": 225,
     "metadata": {},
     "output_type": "execute_result"
    }
   ],
   "source": [
    "data.dtypes"
   ]
  },
  {
   "cell_type": "code",
   "execution_count": null,
   "metadata": {
    "collapsed": false
   },
   "outputs": [],
   "source": []
  },
  {
   "cell_type": "code",
   "execution_count": 226,
   "metadata": {
    "collapsed": false
   },
   "outputs": [
    {
     "data": {
      "text/plain": [
       "0    5.00\n",
       "1    6.25\n",
       "2    2.99\n",
       "3    1.12\n",
       "4    6.25\n",
       "dtype: float64"
      ]
     },
     "execution_count": 226,
     "metadata": {},
     "output_type": "execute_result"
    }
   ],
   "source": [
    "#just messing around\n",
    "total_profit = data['State Bottle Retail'] - data['State Bottle Cost']\n",
    "total_profit.head()"
   ]
  },
  {
   "cell_type": "code",
   "execution_count": 227,
   "metadata": {
    "collapsed": false
   },
   "outputs": [
    {
     "data": {
      "text/plain": [
       "2709552"
      ]
     },
     "execution_count": 227,
     "metadata": {},
     "output_type": "execute_result"
    }
   ],
   "source": [
    "data['Store Number'].value_counts().sum()"
   ]
  },
  {
   "cell_type": "code",
   "execution_count": 228,
   "metadata": {
    "collapsed": false
   },
   "outputs": [
    {
     "data": {
      "text/plain": [
       "1403"
      ]
     },
     "execution_count": 228,
     "metadata": {},
     "output_type": "execute_result"
    }
   ],
   "source": [
    "#set will filter out duplicates\n",
    "#shows how many stores I am dealing with\n",
    "len(set(data['Store Number']))"
   ]
  },
  {
   "cell_type": "code",
   "execution_count": 229,
   "metadata": {
    "collapsed": false
   },
   "outputs": [
    {
     "data": {
      "text/html": [
       "<div>\n",
       "<table border=\"1\" class=\"dataframe\">\n",
       "  <thead>\n",
       "    <tr style=\"text-align: right;\">\n",
       "      <th></th>\n",
       "      <th>Store ID</th>\n",
       "      <th>Sale (Dollars)</th>\n",
       "    </tr>\n",
       "  </thead>\n",
       "  <tbody>\n",
       "    <tr>\n",
       "      <th>0</th>\n",
       "      <td>2633</td>\n",
       "      <td>24336</td>\n",
       "    </tr>\n",
       "    <tr>\n",
       "      <th>1</th>\n",
       "      <td>4829</td>\n",
       "      <td>22851</td>\n",
       "    </tr>\n",
       "    <tr>\n",
       "      <th>2</th>\n",
       "      <td>2512</td>\n",
       "      <td>17962</td>\n",
       "    </tr>\n",
       "    <tr>\n",
       "      <th>3</th>\n",
       "      <td>2572</td>\n",
       "      <td>17085</td>\n",
       "    </tr>\n",
       "    <tr>\n",
       "      <th>4</th>\n",
       "      <td>2515</td>\n",
       "      <td>16167</td>\n",
       "    </tr>\n",
       "  </tbody>\n",
       "</table>\n",
       "</div>"
      ],
      "text/plain": [
       "   Store ID  Sale (Dollars)\n",
       "0      2633           24336\n",
       "1      4829           22851\n",
       "2      2512           17962\n",
       "3      2572           17085\n",
       "4      2515           16167"
      ]
     },
     "execution_count": 229,
     "metadata": {},
     "output_type": "execute_result"
    }
   ],
   "source": [
    "#just messing around\n",
    "each_store = pd.DataFrame(data['Store Number'].value_counts())\n",
    "each_store = each_store.reset_index()\n",
    "each_store.columns = ['Store ID', 'Sale (Dollars)']\n",
    "each_store.head()"
   ]
  },
  {
   "cell_type": "code",
   "execution_count": 230,
   "metadata": {
    "collapsed": false
   },
   "outputs": [
    {
     "data": {
      "text/plain": [
       "1403"
      ]
     },
     "execution_count": 230,
     "metadata": {},
     "output_type": "execute_result"
    }
   ],
   "source": [
    "#shows how many stores I have without repeats\n",
    "len(each_store)"
   ]
  },
  {
   "cell_type": "code",
   "execution_count": 231,
   "metadata": {
    "collapsed": false
   },
   "outputs": [
    {
     "data": {
      "text/html": [
       "<div>\n",
       "<table border=\"1\" class=\"dataframe\">\n",
       "  <thead>\n",
       "    <tr style=\"text-align: right;\">\n",
       "      <th></th>\n",
       "      <th>Sale (Dollars)</th>\n",
       "    </tr>\n",
       "    <tr>\n",
       "      <th>Store ID</th>\n",
       "      <th></th>\n",
       "    </tr>\n",
       "  </thead>\n",
       "  <tbody>\n",
       "    <tr>\n",
       "      <th>2106</th>\n",
       "      <td>6334</td>\n",
       "    </tr>\n",
       "    <tr>\n",
       "      <th>2113</th>\n",
       "      <td>1754</td>\n",
       "    </tr>\n",
       "    <tr>\n",
       "      <th>2130</th>\n",
       "      <td>4988</td>\n",
       "    </tr>\n",
       "    <tr>\n",
       "      <th>2152</th>\n",
       "      <td>1742</td>\n",
       "    </tr>\n",
       "    <tr>\n",
       "      <th>2178</th>\n",
       "      <td>3262</td>\n",
       "    </tr>\n",
       "  </tbody>\n",
       "</table>\n",
       "</div>"
      ],
      "text/plain": [
       "          Sale (Dollars)\n",
       "Store ID                \n",
       "2106                6334\n",
       "2113                1754\n",
       "2130                4988\n",
       "2152                1742\n",
       "2178                3262"
      ]
     },
     "execution_count": 231,
     "metadata": {},
     "output_type": "execute_result"
    }
   ],
   "source": [
    "#this table does not distinguish between year 2015 and 2016, it is for both years\n",
    "both_years = pd.pivot_table(each_store, index=['Store ID'], values=['Sale (Dollars)'])\n",
    "both_years.head()"
   ]
  },
  {
   "cell_type": "code",
   "execution_count": 375,
   "metadata": {
    "collapsed": false
   },
   "outputs": [
    {
     "ename": "AttributeError",
     "evalue": "Can only use .dt accessor with datetimelike values",
     "output_type": "error",
     "traceback": [
      "\u001b[0;31m---------------------------------------------------------------------------\u001b[0m",
      "\u001b[0;31mAttributeError\u001b[0m                            Traceback (most recent call last)",
      "\u001b[0;32m<ipython-input-375-412a224e6ba5>\u001b[0m in \u001b[0;36m<module>\u001b[0;34m()\u001b[0m\n\u001b[1;32m      1\u001b[0m \u001b[0;31m#allows me to separate by 2015 and 2016\u001b[0m\u001b[0;34m\u001b[0m\u001b[0;34m\u001b[0m\u001b[0m\n\u001b[0;32m----> 2\u001b[0;31m \u001b[0mdata\u001b[0m\u001b[0;34m[\u001b[0m\u001b[0;34m'Year'\u001b[0m\u001b[0;34m]\u001b[0m \u001b[0;34m=\u001b[0m \u001b[0mdata\u001b[0m\u001b[0;34m[\u001b[0m\u001b[0;34m'Date'\u001b[0m\u001b[0;34m]\u001b[0m\u001b[0;34m.\u001b[0m\u001b[0mdt\u001b[0m\u001b[0;34m.\u001b[0m\u001b[0myear\u001b[0m\u001b[0;34m\u001b[0m\u001b[0m\n\u001b[0m\u001b[1;32m      3\u001b[0m \u001b[0mdata\u001b[0m\u001b[0;34m[\u001b[0m\u001b[0;34m'Month'\u001b[0m\u001b[0;34m]\u001b[0m \u001b[0;34m=\u001b[0m \u001b[0mdata\u001b[0m\u001b[0;34m[\u001b[0m\u001b[0;34m'Date'\u001b[0m\u001b[0;34m]\u001b[0m\u001b[0;34m.\u001b[0m\u001b[0mdt\u001b[0m\u001b[0;34m.\u001b[0m\u001b[0mmonth\u001b[0m\u001b[0;34m\u001b[0m\u001b[0m\n",
      "\u001b[0;32m/Users/Driz/anaconda2/lib/python2.7/site-packages/pandas/core/generic.pyc\u001b[0m in \u001b[0;36m__getattr__\u001b[0;34m(self, name)\u001b[0m\n\u001b[1;32m   2666\u001b[0m         if (name in self._internal_names_set or name in self._metadata or\n\u001b[1;32m   2667\u001b[0m                 name in self._accessors):\n\u001b[0;32m-> 2668\u001b[0;31m             \u001b[0;32mreturn\u001b[0m \u001b[0mobject\u001b[0m\u001b[0;34m.\u001b[0m\u001b[0m__getattribute__\u001b[0m\u001b[0;34m(\u001b[0m\u001b[0mself\u001b[0m\u001b[0;34m,\u001b[0m \u001b[0mname\u001b[0m\u001b[0;34m)\u001b[0m\u001b[0;34m\u001b[0m\u001b[0m\n\u001b[0m\u001b[1;32m   2669\u001b[0m         \u001b[0;32melse\u001b[0m\u001b[0;34m:\u001b[0m\u001b[0;34m\u001b[0m\u001b[0m\n\u001b[1;32m   2670\u001b[0m             \u001b[0;32mif\u001b[0m \u001b[0mname\u001b[0m \u001b[0;32min\u001b[0m \u001b[0mself\u001b[0m\u001b[0;34m.\u001b[0m\u001b[0m_info_axis\u001b[0m\u001b[0;34m:\u001b[0m\u001b[0;34m\u001b[0m\u001b[0m\n",
      "\u001b[0;32m/Users/Driz/anaconda2/lib/python2.7/site-packages/pandas/core/base.pyc\u001b[0m in \u001b[0;36m__get__\u001b[0;34m(self, instance, owner)\u001b[0m\n\u001b[1;32m    235\u001b[0m             \u001b[0;31m# this ensures that Series.str.<method> is well defined\u001b[0m\u001b[0;34m\u001b[0m\u001b[0;34m\u001b[0m\u001b[0m\n\u001b[1;32m    236\u001b[0m             \u001b[0;32mreturn\u001b[0m \u001b[0mself\u001b[0m\u001b[0;34m.\u001b[0m\u001b[0maccessor_cls\u001b[0m\u001b[0;34m\u001b[0m\u001b[0m\n\u001b[0;32m--> 237\u001b[0;31m         \u001b[0;32mreturn\u001b[0m \u001b[0mself\u001b[0m\u001b[0;34m.\u001b[0m\u001b[0mconstruct_accessor\u001b[0m\u001b[0;34m(\u001b[0m\u001b[0minstance\u001b[0m\u001b[0;34m)\u001b[0m\u001b[0;34m\u001b[0m\u001b[0m\n\u001b[0m\u001b[1;32m    238\u001b[0m \u001b[0;34m\u001b[0m\u001b[0m\n\u001b[1;32m    239\u001b[0m     \u001b[0;32mdef\u001b[0m \u001b[0m__set__\u001b[0m\u001b[0;34m(\u001b[0m\u001b[0mself\u001b[0m\u001b[0;34m,\u001b[0m \u001b[0minstance\u001b[0m\u001b[0;34m,\u001b[0m \u001b[0mvalue\u001b[0m\u001b[0;34m)\u001b[0m\u001b[0;34m:\u001b[0m\u001b[0;34m\u001b[0m\u001b[0m\n",
      "\u001b[0;32m/Users/Driz/anaconda2/lib/python2.7/site-packages/pandas/core/series.pyc\u001b[0m in \u001b[0;36m_make_dt_accessor\u001b[0;34m(self)\u001b[0m\n\u001b[1;32m   2711\u001b[0m             \u001b[0;32mreturn\u001b[0m \u001b[0mmaybe_to_datetimelike\u001b[0m\u001b[0;34m(\u001b[0m\u001b[0mself\u001b[0m\u001b[0;34m)\u001b[0m\u001b[0;34m\u001b[0m\u001b[0m\n\u001b[1;32m   2712\u001b[0m         \u001b[0;32mexcept\u001b[0m \u001b[0mException\u001b[0m\u001b[0;34m:\u001b[0m\u001b[0;34m\u001b[0m\u001b[0m\n\u001b[0;32m-> 2713\u001b[0;31m             raise AttributeError(\"Can only use .dt accessor with datetimelike \"\n\u001b[0m\u001b[1;32m   2714\u001b[0m                                  \"values\")\n\u001b[1;32m   2715\u001b[0m \u001b[0;34m\u001b[0m\u001b[0m\n",
      "\u001b[0;31mAttributeError\u001b[0m: Can only use .dt accessor with datetimelike values"
     ]
    }
   ],
   "source": [
    "#allows me to separate by 2015 and 2016\n",
    "data['Year'] = data['Date'].dt.year\n",
    "data['Month'] = data['Date'].dt.month\n",
    "#this worked the first time I ran it, ran it again and now its broken"
   ]
  },
  {
   "cell_type": "code",
   "execution_count": null,
   "metadata": {
    "collapsed": false
   },
   "outputs": [],
   "source": []
  },
  {
   "cell_type": "code",
   "execution_count": 234,
   "metadata": {
    "collapsed": false,
    "scrolled": true
   },
   "outputs": [
    {
     "data": {
      "text/plain": [
       "Index([u'Date', u'Store Number', u'City', u'Zip Code', u'County Number',\n",
       "       u'County', u'Category', u'Category Name', u'Vendor Number',\n",
       "       u'Item Number', u'Item Description', u'Bottle Volume (ml)',\n",
       "       u'State Bottle Cost', u'State Bottle Retail', u'Bottles Sold',\n",
       "       u'Sale (Dollars)', u'Volume Sold (Liters)', u'Volume Sold (Gallons)',\n",
       "       u'Year', u'Month'],\n",
       "      dtype='object')"
      ]
     },
     "execution_count": 234,
     "metadata": {},
     "output_type": "execute_result"
    }
   ],
   "source": [
    "data.columns"
   ]
  },
  {
   "cell_type": "code",
   "execution_count": 235,
   "metadata": {
    "collapsed": true
   },
   "outputs": [],
   "source": [
    "#make sure not to add any columns that have null values and are not int"
   ]
  },
  {
   "cell_type": "code",
   "execution_count": 236,
   "metadata": {
    "collapsed": false,
    "scrolled": false
   },
   "outputs": [
    {
     "data": {
      "text/html": [
       "<div>\n",
       "<table border=\"1\" class=\"dataframe\">\n",
       "  <thead>\n",
       "    <tr style=\"text-align: right;\">\n",
       "      <th></th>\n",
       "      <th>Store Number</th>\n",
       "      <th>Bottle Volume (ml)</th>\n",
       "      <th>Sale (Dollars)</th>\n",
       "      <th>State Bottle Cost</th>\n",
       "      <th>State Bottle Retail</th>\n",
       "      <th>Volume Sold (Gallons)</th>\n",
       "      <th>Volume Sold (Liters)</th>\n",
       "    </tr>\n",
       "  </thead>\n",
       "  <tbody>\n",
       "    <tr>\n",
       "      <th>0</th>\n",
       "      <td>2106</td>\n",
       "      <td>4643675</td>\n",
       "      <td>1434369.85</td>\n",
       "      <td>55183.96</td>\n",
       "      <td>82829.51</td>\n",
       "      <td>24832.44</td>\n",
       "      <td>93986.47</td>\n",
       "    </tr>\n",
       "    <tr>\n",
       "      <th>1</th>\n",
       "      <td>2113</td>\n",
       "      <td>1313875</td>\n",
       "      <td>85763.42</td>\n",
       "      <td>14469.12</td>\n",
       "      <td>21725.74</td>\n",
       "      <td>1717.17</td>\n",
       "      <td>6500.83</td>\n",
       "    </tr>\n",
       "    <tr>\n",
       "      <th>2</th>\n",
       "      <td>2130</td>\n",
       "      <td>3647275</td>\n",
       "      <td>1108184.99</td>\n",
       "      <td>40580.91</td>\n",
       "      <td>60908.96</td>\n",
       "      <td>17321.29</td>\n",
       "      <td>65562.88</td>\n",
       "    </tr>\n",
       "    <tr>\n",
       "      <th>3</th>\n",
       "      <td>2152</td>\n",
       "      <td>1513250</td>\n",
       "      <td>72080.36</td>\n",
       "      <td>12311.88</td>\n",
       "      <td>18507.48</td>\n",
       "      <td>1628.42</td>\n",
       "      <td>6164.92</td>\n",
       "    </tr>\n",
       "    <tr>\n",
       "      <th>4</th>\n",
       "      <td>2178</td>\n",
       "      <td>2739775</td>\n",
       "      <td>277987.96</td>\n",
       "      <td>26665.46</td>\n",
       "      <td>40070.07</td>\n",
       "      <td>5737.98</td>\n",
       "      <td>21719.49</td>\n",
       "    </tr>\n",
       "  </tbody>\n",
       "</table>\n",
       "</div>"
      ],
      "text/plain": [
       "   Store Number  Bottle Volume (ml)  Sale (Dollars)  State Bottle Cost  \\\n",
       "0          2106             4643675      1434369.85           55183.96   \n",
       "1          2113             1313875        85763.42           14469.12   \n",
       "2          2130             3647275      1108184.99           40580.91   \n",
       "3          2152             1513250        72080.36           12311.88   \n",
       "4          2178             2739775       277987.96           26665.46   \n",
       "\n",
       "   State Bottle Retail  Volume Sold (Gallons)  Volume Sold (Liters)  \n",
       "0             82829.51               24832.44              93986.47  \n",
       "1             21725.74                1717.17               6500.83  \n",
       "2             60908.96               17321.29              65562.88  \n",
       "3             18507.48                1628.42               6164.92  \n",
       "4             40070.07                5737.98              21719.49  "
      ]
     },
     "execution_count": 236,
     "metadata": {},
     "output_type": "execute_result"
    }
   ],
   "source": [
    "#got ahead of myself and had to go back to add date column before I separate by year\n",
    "#need to go back into these two year tables and add more variables so I can test\n",
    "#separated total sales per store by year\n",
    "year_2015 = pd.pivot_table(data[(data['Year'] == 2015)], \n",
    "                           values=['Sale (Dollars)','Volume Sold (Liters)',\n",
    "                                   'Volume Sold (Gallons)', 'State Bottle Cost',\n",
    "                                   'Bottle Volume (ml)', 'State Bottle Retail'], \n",
    "                           index='Store Number', aggfunc=np.sum)\n",
    "year_2015.reset_index(inplace=True)\n",
    "year_2015.head()"
   ]
  },
  {
   "cell_type": "code",
   "execution_count": 237,
   "metadata": {
    "collapsed": false
   },
   "outputs": [
    {
     "data": {
      "text/html": [
       "<div>\n",
       "<table border=\"1\" class=\"dataframe\">\n",
       "  <thead>\n",
       "    <tr style=\"text-align: right;\">\n",
       "      <th></th>\n",
       "      <th>Store Number</th>\n",
       "      <th>Bottle Volume (ml)</th>\n",
       "      <th>Bottles Sold</th>\n",
       "      <th>Sale (Dollars)</th>\n",
       "      <th>Volume Sold (Gallons)</th>\n",
       "      <th>Volume Sold (Liters)</th>\n",
       "    </tr>\n",
       "  </thead>\n",
       "  <tbody>\n",
       "    <tr>\n",
       "      <th>0</th>\n",
       "      <td>2106</td>\n",
       "      <td>1085925</td>\n",
       "      <td>23316</td>\n",
       "      <td>337166.53</td>\n",
       "      <td>5764.04</td>\n",
       "      <td>21815.55</td>\n",
       "    </tr>\n",
       "    <tr>\n",
       "      <th>1</th>\n",
       "      <td>2113</td>\n",
       "      <td>319625</td>\n",
       "      <td>1618</td>\n",
       "      <td>22351.86</td>\n",
       "      <td>423.73</td>\n",
       "      <td>1604.08</td>\n",
       "    </tr>\n",
       "    <tr>\n",
       "      <th>2</th>\n",
       "      <td>2130</td>\n",
       "      <td>869575</td>\n",
       "      <td>17707</td>\n",
       "      <td>277764.46</td>\n",
       "      <td>4273.60</td>\n",
       "      <td>16176.37</td>\n",
       "    </tr>\n",
       "    <tr>\n",
       "      <th>3</th>\n",
       "      <td>2152</td>\n",
       "      <td>355500</td>\n",
       "      <td>1375</td>\n",
       "      <td>16805.11</td>\n",
       "      <td>373.65</td>\n",
       "      <td>1414.59</td>\n",
       "    </tr>\n",
       "    <tr>\n",
       "      <th>4</th>\n",
       "      <td>2178</td>\n",
       "      <td>556200</td>\n",
       "      <td>4279</td>\n",
       "      <td>54411.42</td>\n",
       "      <td>1156.12</td>\n",
       "      <td>4376.38</td>\n",
       "    </tr>\n",
       "  </tbody>\n",
       "</table>\n",
       "</div>"
      ],
      "text/plain": [
       "   Store Number  Bottle Volume (ml)  Bottles Sold  Sale (Dollars)  \\\n",
       "0          2106             1085925         23316       337166.53   \n",
       "1          2113              319625          1618        22351.86   \n",
       "2          2130              869575         17707       277764.46   \n",
       "3          2152              355500          1375        16805.11   \n",
       "4          2178              556200          4279        54411.42   \n",
       "\n",
       "   Volume Sold (Gallons)  Volume Sold (Liters)  \n",
       "0                5764.04              21815.55  \n",
       "1                 423.73               1604.08  \n",
       "2                4273.60              16176.37  \n",
       "3                 373.65               1414.59  \n",
       "4                1156.12               4376.38  "
      ]
     },
     "execution_count": 237,
     "metadata": {},
     "output_type": "execute_result"
    }
   ],
   "source": [
    "#need to show only jan-mar per year\n",
    "#and then add the sale column back into the above pivot table\n",
    "jan_march_2015 = pd.pivot_table(data[((data['Year'] == 2015) & (data['Month'] <= 3))], \n",
    "                                   values=['Bottle Volume (ml)', 'State Bottle Cost (Dollars)', \n",
    "                                           'State Bottle Retail (Dollars)', \n",
    "                                           'Bottles Sold', 'Sale (Dollars)', 'Volume Sold (Liters)', \n",
    "                                           'Volume Sold (Gallons)'], \n",
    "                                   index=['Store Number'], aggfunc=np.sum)\n",
    "jan_march_2015.reset_index(inplace=True)\n",
    "jan_march_2015.head()"
   ]
  },
  {
   "cell_type": "code",
   "execution_count": 238,
   "metadata": {
    "collapsed": false
   },
   "outputs": [
    {
     "data": {
      "text/html": [
       "<div>\n",
       "<table border=\"1\" class=\"dataframe\">\n",
       "  <thead>\n",
       "    <tr style=\"text-align: right;\">\n",
       "      <th></th>\n",
       "      <th>Store Number</th>\n",
       "      <th>Bottle Volume (ml)</th>\n",
       "      <th>Sale (Dollars)</th>\n",
       "      <th>State Bottle Cost</th>\n",
       "      <th>State Bottle Retail</th>\n",
       "      <th>Volume Sold (Gallons)</th>\n",
       "      <th>Volume Sold (Liters)</th>\n",
       "      <th>Jan-March Sales (Dollars)</th>\n",
       "    </tr>\n",
       "  </thead>\n",
       "  <tbody>\n",
       "    <tr>\n",
       "      <th>0</th>\n",
       "      <td>2106</td>\n",
       "      <td>4643675</td>\n",
       "      <td>1434369.85</td>\n",
       "      <td>55183.96</td>\n",
       "      <td>82829.51</td>\n",
       "      <td>24832.44</td>\n",
       "      <td>93986.47</td>\n",
       "      <td>337166.53</td>\n",
       "    </tr>\n",
       "    <tr>\n",
       "      <th>1</th>\n",
       "      <td>2113</td>\n",
       "      <td>1313875</td>\n",
       "      <td>85763.42</td>\n",
       "      <td>14469.12</td>\n",
       "      <td>21725.74</td>\n",
       "      <td>1717.17</td>\n",
       "      <td>6500.83</td>\n",
       "      <td>22351.86</td>\n",
       "    </tr>\n",
       "    <tr>\n",
       "      <th>2</th>\n",
       "      <td>2130</td>\n",
       "      <td>3647275</td>\n",
       "      <td>1108184.99</td>\n",
       "      <td>40580.91</td>\n",
       "      <td>60908.96</td>\n",
       "      <td>17321.29</td>\n",
       "      <td>65562.88</td>\n",
       "      <td>277764.46</td>\n",
       "    </tr>\n",
       "    <tr>\n",
       "      <th>3</th>\n",
       "      <td>2152</td>\n",
       "      <td>1513250</td>\n",
       "      <td>72080.36</td>\n",
       "      <td>12311.88</td>\n",
       "      <td>18507.48</td>\n",
       "      <td>1628.42</td>\n",
       "      <td>6164.92</td>\n",
       "      <td>16805.11</td>\n",
       "    </tr>\n",
       "    <tr>\n",
       "      <th>4</th>\n",
       "      <td>2178</td>\n",
       "      <td>2739775</td>\n",
       "      <td>277987.96</td>\n",
       "      <td>26665.46</td>\n",
       "      <td>40070.07</td>\n",
       "      <td>5737.98</td>\n",
       "      <td>21719.49</td>\n",
       "      <td>54411.42</td>\n",
       "    </tr>\n",
       "  </tbody>\n",
       "</table>\n",
       "</div>"
      ],
      "text/plain": [
       "   Store Number  Bottle Volume (ml)  Sale (Dollars)  State Bottle Cost  \\\n",
       "0          2106             4643675      1434369.85           55183.96   \n",
       "1          2113             1313875        85763.42           14469.12   \n",
       "2          2130             3647275      1108184.99           40580.91   \n",
       "3          2152             1513250        72080.36           12311.88   \n",
       "4          2178             2739775       277987.96           26665.46   \n",
       "\n",
       "   State Bottle Retail  Volume Sold (Gallons)  Volume Sold (Liters)  \\\n",
       "0             82829.51               24832.44              93986.47   \n",
       "1             21725.74                1717.17               6500.83   \n",
       "2             60908.96               17321.29              65562.88   \n",
       "3             18507.48                1628.42               6164.92   \n",
       "4             40070.07                5737.98              21719.49   \n",
       "\n",
       "   Jan-March Sales (Dollars)  \n",
       "0                  337166.53  \n",
       "1                   22351.86  \n",
       "2                  277764.46  \n",
       "3                   16805.11  \n",
       "4                   54411.42  "
      ]
     },
     "execution_count": 238,
     "metadata": {},
     "output_type": "execute_result"
    }
   ],
   "source": [
    "#added Jan-Mar column as required\n",
    "year_2015['Jan-March Sales (Dollars)'] = jan_march_2015['Sale (Dollars)']\n",
    "year_2015.head()"
   ]
  },
  {
   "cell_type": "code",
   "execution_count": 239,
   "metadata": {
    "collapsed": false
   },
   "outputs": [],
   "source": [
    "#need to get rid of null values for 'State Bottle Cost'\n",
    "year_2015.dropna(inplace=True)"
   ]
  },
  {
   "cell_type": "code",
   "execution_count": 243,
   "metadata": {
    "collapsed": false
   },
   "outputs": [
    {
     "data": {
      "text/plain": [
       "State Bottle Cost            False\n",
       "Jan-March Sales (Dollars)    False\n",
       "dtype: bool"
      ]
     },
     "execution_count": 243,
     "metadata": {},
     "output_type": "execute_result"
    }
   ],
   "source": [
    "#this ran true so I went back up and dropped the nulls\n",
    "#dont want to use stores that didnt sell for 3 months\n",
    "#it would mess up my predictions for a years forecast\n",
    "X.isnull().any()"
   ]
  },
  {
   "cell_type": "code",
   "execution_count": 306,
   "metadata": {
    "collapsed": false
   },
   "outputs": [
    {
     "name": "stdout",
     "output_type": "stream",
     "text": [
      "       Store Number  Bottle Volume (ml)  Sale (Dollars)  State Bottle Cost  \\\n",
      "count   1283.000000        1.283000e+03    1.283000e+03        1283.000000   \n",
      "mean    4162.644583        1.536273e+06    2.162568e+05       16307.065963   \n",
      "std      775.243033        2.114692e+06    5.178018e+05       24951.102789   \n",
      "min     2106.000000        1.062500e+04    8.271300e+02         121.770000   \n",
      "25%     3809.500000        2.782000e+05    3.359112e+04        2813.165000   \n",
      "50%     4384.000000        7.561250e+05    7.504576e+04        7506.390000   \n",
      "75%     4747.500000        1.683488e+06    1.997387e+05       17421.100000   \n",
      "max     5114.000000        1.791535e+07    9.839393e+06      239277.900000   \n",
      "\n",
      "       State Bottle Retail  Volume Sold (Gallons)  Volume Sold (Liters)  \\\n",
      "count          1283.000000            1283.000000           1283.000000   \n",
      "mean          24489.853328            3945.143967          14932.697592   \n",
      "std           37466.891019            8481.564944          32103.857303   \n",
      "min             182.700000              12.990000             48.830000   \n",
      "25%            4224.180000             656.770000           2485.340000   \n",
      "50%           11261.840000            1481.150000           5605.490000   \n",
      "75%           26146.045000            3827.410000          14493.945000   \n",
      "max          359200.190000          153987.100000         582860.610000   \n",
      "\n",
      "       Jan-March Sales (Dollars)  \n",
      "count               1.283000e+03  \n",
      "mean                4.909215e+04  \n",
      "std                 1.207368e+05  \n",
      "min                 4.138500e+02  \n",
      "25%                 8.341035e+03  \n",
      "50%                 1.809052e+04  \n",
      "75%                 4.668567e+04  \n",
      "max                 2.337324e+06  \n"
     ]
    }
   ],
   "source": [
    "print year_2015.describe()"
   ]
  },
  {
   "cell_type": "code",
   "execution_count": 299,
   "metadata": {
    "collapsed": true
   },
   "outputs": [],
   "source": [
    "#follow this to begin modeling\n",
    "# Fit a line\n",
    "X= year_2015[['State Bottle Cost', 'Jan-March Sales (Dollars)']]\n",
    "y= year_2015[\"Sale (Dollars)\"]"
   ]
  },
  {
   "cell_type": "code",
   "execution_count": 271,
   "metadata": {
    "collapsed": false
   },
   "outputs": [
    {
     "data": {
      "text/html": [
       "<table class=\"simpletable\">\n",
       "<caption>OLS Regression Results</caption>\n",
       "<tr>\n",
       "  <th>Dep. Variable:</th>     <td>Sale (Dollars)</td>  <th>  R-squared:         </th> <td>   0.677</td> \n",
       "</tr>\n",
       "<tr>\n",
       "  <th>Model:</th>                   <td>OLS</td>       <th>  Adj. R-squared:    </th> <td>   0.676</td> \n",
       "</tr>\n",
       "<tr>\n",
       "  <th>Method:</th>             <td>Least Squares</td>  <th>  F-statistic:       </th> <td>   1342.</td> \n",
       "</tr>\n",
       "<tr>\n",
       "  <th>Date:</th>             <td>Sat, 15 Oct 2016</td> <th>  Prob (F-statistic):</th> <td>4.91e-315</td>\n",
       "</tr>\n",
       "<tr>\n",
       "  <th>Time:</th>                 <td>14:34:57</td>     <th>  Log-Likelihood:    </th> <td> -18079.</td> \n",
       "</tr>\n",
       "<tr>\n",
       "  <th>No. Observations:</th>      <td>  1283</td>      <th>  AIC:               </th> <td>3.616e+04</td>\n",
       "</tr>\n",
       "<tr>\n",
       "  <th>Df Residuals:</th>          <td>  1281</td>      <th>  BIC:               </th> <td>3.617e+04</td>\n",
       "</tr>\n",
       "<tr>\n",
       "  <th>Df Model:</th>              <td>     2</td>      <th>                     </th>     <td> </td>    \n",
       "</tr>\n",
       "<tr>\n",
       "  <th>Covariance Type:</th>      <td>nonrobust</td>    <th>                     </th>     <td> </td>    \n",
       "</tr>\n",
       "</table>\n",
       "<table class=\"simpletable\">\n",
       "<tr>\n",
       "              <td></td>                 <th>coef</th>     <th>std err</th>      <th>t</th>      <th>P>|t|</th> <th>[95.0% Conf. Int.]</th> \n",
       "</tr>\n",
       "<tr>\n",
       "  <th>State Bottle Cost</th>         <td>   13.2835</td> <td>    0.372</td> <td>   35.741</td> <td> 0.000</td> <td>   12.554    14.013</td>\n",
       "</tr>\n",
       "<tr>\n",
       "  <th>Jan-March Sales (Dollars)</th> <td>    0.7594</td> <td>    0.085</td> <td>    8.934</td> <td> 0.000</td> <td>    0.593     0.926</td>\n",
       "</tr>\n",
       "</table>\n",
       "<table class=\"simpletable\">\n",
       "<tr>\n",
       "  <th>Omnibus:</th>       <td>2022.173</td> <th>  Durbin-Watson:     </th>  <td>   1.875</td>  \n",
       "</tr>\n",
       "<tr>\n",
       "  <th>Prob(Omnibus):</th>  <td> 0.000</td>  <th>  Jarque-Bera (JB):  </th> <td>1168006.762</td>\n",
       "</tr>\n",
       "<tr>\n",
       "  <th>Skew:</th>           <td> 9.563</td>  <th>  Prob(JB):          </th>  <td>    0.00</td>  \n",
       "</tr>\n",
       "<tr>\n",
       "  <th>Kurtosis:</th>       <td>149.571</td> <th>  Cond. No.          </th>  <td>    5.54</td>  \n",
       "</tr>\n",
       "</table>"
      ],
      "text/plain": [
       "<class 'statsmodels.iolib.summary.Summary'>\n",
       "\"\"\"\n",
       "                            OLS Regression Results                            \n",
       "==============================================================================\n",
       "Dep. Variable:         Sale (Dollars)   R-squared:                       0.677\n",
       "Model:                            OLS   Adj. R-squared:                  0.676\n",
       "Method:                 Least Squares   F-statistic:                     1342.\n",
       "Date:                Sat, 15 Oct 2016   Prob (F-statistic):          4.91e-315\n",
       "Time:                        14:34:57   Log-Likelihood:                -18079.\n",
       "No. Observations:                1283   AIC:                         3.616e+04\n",
       "Df Residuals:                    1281   BIC:                         3.617e+04\n",
       "Df Model:                           2                                         \n",
       "Covariance Type:            nonrobust                                         \n",
       "=============================================================================================\n",
       "                                coef    std err          t      P>|t|      [95.0% Conf. Int.]\n",
       "---------------------------------------------------------------------------------------------\n",
       "State Bottle Cost            13.2835      0.372     35.741      0.000        12.554    14.013\n",
       "Jan-March Sales (Dollars)     0.7594      0.085      8.934      0.000         0.593     0.926\n",
       "==============================================================================\n",
       "Omnibus:                     2022.173   Durbin-Watson:                   1.875\n",
       "Prob(Omnibus):                  0.000   Jarque-Bera (JB):          1168006.762\n",
       "Skew:                           9.563   Prob(JB):                         0.00\n",
       "Kurtosis:                     149.571   Cond. No.                         5.54\n",
       "==============================================================================\n",
       "\n",
       "Warnings:\n",
       "[1] Standard Errors assume that the covariance matrix of the errors is correctly specified.\n",
       "\"\"\""
      ]
     },
     "execution_count": 271,
     "metadata": {},
     "output_type": "execute_result"
    }
   ],
   "source": [
    "model = sm.OLS(y, X).fit()\n",
    "predictions = model.predict(X)\n",
    "model.summary() \n",
    "#to show some stuff\n",
    "#for every one unit increase in X, y increases by 13.2835 (coefficient variable)"
   ]
  },
  {
   "cell_type": "code",
   "execution_count": 369,
   "metadata": {
    "collapsed": false
   },
   "outputs": [
    {
     "name": "stdout",
     "output_type": "stream",
     "text": [
      " r^2: 0.99529399164\n"
     ]
    },
    {
     "data": {
      "image/png": "[encoded data removed]",
      "text/plain": [
       "<matplotlib.figure.Figure at 0x118f311d0>"
      ]
     },
     "metadata": {},
     "output_type": "display_data"
    }
   ],
   "source": [
    "# Plot the data and the best fit line\n",
    "# The line / model\n",
    "plt.style.use('fivethirtyeight')\n",
    "plt.scatter(predictions, y)\n",
    "plt.title('Predicted Store Sales for 2015')\n",
    "plt.ylabel(\"Sale (Dollars)\")\n",
    "plt.xlabel(\"State Bottle Cost and Jan-March Sales (Dollars)\");\n",
    "\n",
    "# Statsmodels makes it easy to get the score\n",
    "print \"r^2:\", model.rsquared\n",
    "#this is from patsy, not sure if I can make it work with this\n",
    "#print \"MSE:\", year_2015.mse_model"
   ]
  },
  {
   "cell_type": "code",
   "execution_count": 266,
   "metadata": {
    "collapsed": false
   },
   "outputs": [
    {
     "data": {
      "image/png": "[encoded data removed]",
      "text/plain": [
       "<matplotlib.figure.Figure at 0x121d1cb50>"
      ]
     },
     "metadata": {},
     "output_type": "display_data"
    }
   ],
   "source": [
    "#another visualization\n",
    "sns.regplot(x='Jan-March Sales (Dollars)', y='Sale (Dollars)', data=year_2015);"
   ]
  },
  {
   "cell_type": "code",
   "execution_count": 323,
   "metadata": {
    "collapsed": true
   },
   "outputs": [],
   "source": [
    "X= year_2015[['Store Number', 'Jan-March Sales (Dollars)']]\n",
    "y= year_2015[\"Sale (Dollars)\"]"
   ]
  },
  {
   "cell_type": "code",
   "execution_count": 324,
   "metadata": {
    "collapsed": false
   },
   "outputs": [
    {
     "data": {
      "text/html": [
       "<table class=\"simpletable\">\n",
       "<caption>OLS Regression Results</caption>\n",
       "<tr>\n",
       "  <th>Dep. Variable:</th>     <td>Sale (Dollars)</td>  <th>  R-squared:         </th> <td>   0.374</td> \n",
       "</tr>\n",
       "<tr>\n",
       "  <th>Model:</th>                   <td>OLS</td>       <th>  Adj. R-squared:    </th> <td>   0.373</td> \n",
       "</tr>\n",
       "<tr>\n",
       "  <th>Method:</th>             <td>Least Squares</td>  <th>  F-statistic:       </th> <td>   382.8</td> \n",
       "</tr>\n",
       "<tr>\n",
       "  <th>Date:</th>             <td>Sat, 15 Oct 2016</td> <th>  Prob (F-statistic):</th> <td>4.67e-131</td>\n",
       "</tr>\n",
       "<tr>\n",
       "  <th>Time:</th>                 <td>18:58:03</td>     <th>  Log-Likelihood:    </th> <td> -18504.</td> \n",
       "</tr>\n",
       "<tr>\n",
       "  <th>No. Observations:</th>      <td>  1283</td>      <th>  AIC:               </th> <td>3.701e+04</td>\n",
       "</tr>\n",
       "<tr>\n",
       "  <th>Df Residuals:</th>          <td>  1281</td>      <th>  BIC:               </th> <td>3.702e+04</td>\n",
       "</tr>\n",
       "<tr>\n",
       "  <th>Df Model:</th>              <td>     2</td>      <th>                     </th>     <td> </td>    \n",
       "</tr>\n",
       "<tr>\n",
       "  <th>Covariance Type:</th>      <td>nonrobust</td>    <th>                     </th>     <td> </td>    \n",
       "</tr>\n",
       "</table>\n",
       "<table class=\"simpletable\">\n",
       "<tr>\n",
       "              <td></td>                 <th>coef</th>     <th>std err</th>      <th>t</th>      <th>P>|t|</th> <th>[95.0% Conf. Int.]</th> \n",
       "</tr>\n",
       "<tr>\n",
       "  <th>Store Number</th>              <td>   19.3551</td> <td>    3.080</td> <td>    6.283</td> <td> 0.000</td> <td>   13.312    25.398</td>\n",
       "</tr>\n",
       "<tr>\n",
       "  <th>Jan-March Sales (Dollars)</th> <td>    2.3694</td> <td>    0.100</td> <td>   23.670</td> <td> 0.000</td> <td>    2.173     2.566</td>\n",
       "</tr>\n",
       "</table>\n",
       "<table class=\"simpletable\">\n",
       "<tr>\n",
       "  <th>Omnibus:</th>       <td>1696.987</td> <th>  Durbin-Watson:     </th>  <td>   1.786</td>  \n",
       "</tr>\n",
       "<tr>\n",
       "  <th>Prob(Omnibus):</th>  <td> 0.000</td>  <th>  Jarque-Bera (JB):  </th> <td>1037622.063</td>\n",
       "</tr>\n",
       "<tr>\n",
       "  <th>Skew:</th>           <td> 6.608</td>  <th>  Prob(JB):          </th>  <td>    0.00</td>  \n",
       "</tr>\n",
       "<tr>\n",
       "  <th>Kurtosis:</th>       <td>141.691</td> <th>  Cond. No.          </th>  <td>    32.4</td>  \n",
       "</tr>\n",
       "</table>"
      ],
      "text/plain": [
       "<class 'statsmodels.iolib.summary.Summary'>\n",
       "\"\"\"\n",
       "                            OLS Regression Results                            \n",
       "==============================================================================\n",
       "Dep. Variable:         Sale (Dollars)   R-squared:                       0.374\n",
       "Model:                            OLS   Adj. R-squared:                  0.373\n",
       "Method:                 Least Squares   F-statistic:                     382.8\n",
       "Date:                Sat, 15 Oct 2016   Prob (F-statistic):          4.67e-131\n",
       "Time:                        18:58:03   Log-Likelihood:                -18504.\n",
       "No. Observations:                1283   AIC:                         3.701e+04\n",
       "Df Residuals:                    1281   BIC:                         3.702e+04\n",
       "Df Model:                           2                                         \n",
       "Covariance Type:            nonrobust                                         \n",
       "=============================================================================================\n",
       "                                coef    std err          t      P>|t|      [95.0% Conf. Int.]\n",
       "---------------------------------------------------------------------------------------------\n",
       "Store Number                 19.3551      3.080      6.283      0.000        13.312    25.398\n",
       "Jan-March Sales (Dollars)     2.3694      0.100     23.670      0.000         2.173     2.566\n",
       "==============================================================================\n",
       "Omnibus:                     1696.987   Durbin-Watson:                   1.786\n",
       "Prob(Omnibus):                  0.000   Jarque-Bera (JB):          1037622.063\n",
       "Skew:                           6.608   Prob(JB):                         0.00\n",
       "Kurtosis:                     141.691   Cond. No.                         32.4\n",
       "==============================================================================\n",
       "\n",
       "Warnings:\n",
       "[1] Standard Errors assume that the covariance matrix of the errors is correctly specified.\n",
       "\"\"\""
      ]
     },
     "execution_count": 324,
     "metadata": {},
     "output_type": "execute_result"
    }
   ],
   "source": [
    "model = sm.OLS(y, X).fit()\n",
    "predictions = model.predict(X)\n",
    "model.summary() "
   ]
  },
  {
   "cell_type": "code",
   "execution_count": 325,
   "metadata": {
    "collapsed": false
   },
   "outputs": [
    {
     "data": {
      "text/html": [
       "<table class=\"simpletable\">\n",
       "<caption>OLS Regression Results</caption>\n",
       "<tr>\n",
       "  <th>Dep. Variable:</th>     <td>Sale (Dollars)</td>  <th>  R-squared:         </th> <td>   0.636</td> \n",
       "</tr>\n",
       "<tr>\n",
       "  <th>Model:</th>                   <td>OLS</td>       <th>  Adj. R-squared:    </th> <td>   0.635</td> \n",
       "</tr>\n",
       "<tr>\n",
       "  <th>Method:</th>             <td>Least Squares</td>  <th>  F-statistic:       </th> <td>   1118.</td> \n",
       "</tr>\n",
       "<tr>\n",
       "  <th>Date:</th>             <td>Sat, 15 Oct 2016</td> <th>  Prob (F-statistic):</th> <td>9.81e-282</td>\n",
       "</tr>\n",
       "<tr>\n",
       "  <th>Time:</th>                 <td>18:59:47</td>     <th>  Log-Likelihood:    </th> <td> -18156.</td> \n",
       "</tr>\n",
       "<tr>\n",
       "  <th>No. Observations:</th>      <td>  1283</td>      <th>  AIC:               </th> <td>3.632e+04</td>\n",
       "</tr>\n",
       "<tr>\n",
       "  <th>Df Residuals:</th>          <td>  1281</td>      <th>  BIC:               </th> <td>3.633e+04</td>\n",
       "</tr>\n",
       "<tr>\n",
       "  <th>Df Model:</th>              <td>     2</td>      <th>                     </th>     <td> </td>    \n",
       "</tr>\n",
       "<tr>\n",
       "  <th>Covariance Type:</th>      <td>nonrobust</td>    <th>                     </th>     <td> </td>    \n",
       "</tr>\n",
       "</table>\n",
       "<table class=\"simpletable\">\n",
       "<tr>\n",
       "              <td></td>                 <th>coef</th>     <th>std err</th>      <th>t</th>      <th>P>|t|</th> <th>[95.0% Conf. Int.]</th> \n",
       "</tr>\n",
       "<tr>\n",
       "  <th>Bottle Volume (ml)</th>        <td>    0.1411</td> <td>    0.004</td> <td>   31.445</td> <td> 0.000</td> <td>    0.132     0.150</td>\n",
       "</tr>\n",
       "<tr>\n",
       "  <th>Jan-March Sales (Dollars)</th> <td>    0.8913</td> <td>    0.090</td> <td>    9.903</td> <td> 0.000</td> <td>    0.715     1.068</td>\n",
       "</tr>\n",
       "</table>\n",
       "<table class=\"simpletable\">\n",
       "<tr>\n",
       "  <th>Omnibus:</th>       <td>2117.698</td> <th>  Durbin-Watson:     </th>  <td>   1.890</td>  \n",
       "</tr>\n",
       "<tr>\n",
       "  <th>Prob(Omnibus):</th>  <td> 0.000</td>  <th>  Jarque-Bera (JB):  </th> <td>1535005.520</td>\n",
       "</tr>\n",
       "<tr>\n",
       "  <th>Skew:</th>           <td>10.443</td>  <th>  Prob(JB):          </th>  <td>    0.00</td>  \n",
       "</tr>\n",
       "<tr>\n",
       "  <th>Kurtosis:</th>       <td>171.160</td> <th>  Cond. No.          </th>  <td>    24.9</td>  \n",
       "</tr>\n",
       "</table>"
      ],
      "text/plain": [
       "<class 'statsmodels.iolib.summary.Summary'>\n",
       "\"\"\"\n",
       "                            OLS Regression Results                            \n",
       "==============================================================================\n",
       "Dep. Variable:         Sale (Dollars)   R-squared:                       0.636\n",
       "Model:                            OLS   Adj. R-squared:                  0.635\n",
       "Method:                 Least Squares   F-statistic:                     1118.\n",
       "Date:                Sat, 15 Oct 2016   Prob (F-statistic):          9.81e-282\n",
       "Time:                        18:59:47   Log-Likelihood:                -18156.\n",
       "No. Observations:                1283   AIC:                         3.632e+04\n",
       "Df Residuals:                    1281   BIC:                         3.633e+04\n",
       "Df Model:                           2                                         \n",
       "Covariance Type:            nonrobust                                         \n",
       "=============================================================================================\n",
       "                                coef    std err          t      P>|t|      [95.0% Conf. Int.]\n",
       "---------------------------------------------------------------------------------------------\n",
       "Bottle Volume (ml)            0.1411      0.004     31.445      0.000         0.132     0.150\n",
       "Jan-March Sales (Dollars)     0.8913      0.090      9.903      0.000         0.715     1.068\n",
       "==============================================================================\n",
       "Omnibus:                     2117.698   Durbin-Watson:                   1.890\n",
       "Prob(Omnibus):                  0.000   Jarque-Bera (JB):          1535005.520\n",
       "Skew:                          10.443   Prob(JB):                         0.00\n",
       "Kurtosis:                     171.160   Cond. No.                         24.9\n",
       "==============================================================================\n",
       "\n",
       "Warnings:\n",
       "[1] Standard Errors assume that the covariance matrix of the errors is correctly specified.\n",
       "\"\"\""
      ]
     },
     "execution_count": 325,
     "metadata": {},
     "output_type": "execute_result"
    }
   ],
   "source": [
    "X= year_2015[['Bottle Volume (ml)', 'Jan-March Sales (Dollars)']]\n",
    "y= year_2015[\"Sale (Dollars)\"]\n",
    "\n",
    "model = sm.OLS(y, X).fit()\n",
    "predictions = model.predict(X)\n",
    "model.summary() "
   ]
  },
  {
   "cell_type": "code",
   "execution_count": 326,
   "metadata": {
    "collapsed": false
   },
   "outputs": [
    {
     "data": {
      "text/html": [
       "<table class=\"simpletable\">\n",
       "<caption>OLS Regression Results</caption>\n",
       "<tr>\n",
       "  <th>Dep. Variable:</th>     <td>Sale (Dollars)</td>  <th>  R-squared:         </th>  <td>   1.000</td> \n",
       "</tr>\n",
       "<tr>\n",
       "  <th>Model:</th>                   <td>OLS</td>       <th>  Adj. R-squared:    </th>  <td>   1.000</td> \n",
       "</tr>\n",
       "<tr>\n",
       "  <th>Method:</th>             <td>Least Squares</td>  <th>  F-statistic:       </th>  <td>2.093e+34</td>\n",
       "</tr>\n",
       "<tr>\n",
       "  <th>Date:</th>             <td>Sat, 15 Oct 2016</td> <th>  Prob (F-statistic):</th>   <td>  0.00</td>  \n",
       "</tr>\n",
       "<tr>\n",
       "  <th>Time:</th>                 <td>19:00:34</td>     <th>  Log-Likelihood:    </th>  <td>  27746.</td> \n",
       "</tr>\n",
       "<tr>\n",
       "  <th>No. Observations:</th>      <td>  1283</td>      <th>  AIC:               </th> <td>-5.549e+04</td>\n",
       "</tr>\n",
       "<tr>\n",
       "  <th>Df Residuals:</th>          <td>  1281</td>      <th>  BIC:               </th> <td>-5.548e+04</td>\n",
       "</tr>\n",
       "<tr>\n",
       "  <th>Df Model:</th>              <td>     2</td>      <th>                     </th>      <td> </td>    \n",
       "</tr>\n",
       "<tr>\n",
       "  <th>Covariance Type:</th>      <td>nonrobust</td>    <th>                     </th>      <td> </td>    \n",
       "</tr>\n",
       "</table>\n",
       "<table class=\"simpletable\">\n",
       "<tr>\n",
       "              <td></td>                 <th>coef</th>     <th>std err</th>      <th>t</th>      <th>P>|t|</th> <th>[95.0% Conf. Int.]</th> \n",
       "</tr>\n",
       "<tr>\n",
       "  <th>Sale (Dollars)</th>            <td>    1.0000</td> <td> 6.09e-18</td> <td> 1.64e+17</td> <td> 0.000</td> <td>    1.000     1.000</td>\n",
       "</tr>\n",
       "<tr>\n",
       "  <th>Jan-March Sales (Dollars)</th> <td>-4.163e-16</td> <td> 2.62e-17</td> <td>  -15.891</td> <td> 0.000</td> <td>-4.68e-16 -3.65e-16</td>\n",
       "</tr>\n",
       "</table>\n",
       "<table class=\"simpletable\">\n",
       "<tr>\n",
       "  <th>Omnibus:</th>       <td>1792.848</td> <th>  Durbin-Watson:     </th>  <td>   1.683</td> \n",
       "</tr>\n",
       "<tr>\n",
       "  <th>Prob(Omnibus):</th>  <td> 0.000</td>  <th>  Jarque-Bera (JB):  </th> <td>955118.236</td>\n",
       "</tr>\n",
       "<tr>\n",
       "  <th>Skew:</th>           <td>-7.459</td>  <th>  Prob(JB):          </th>  <td>    0.00</td> \n",
       "</tr>\n",
       "<tr>\n",
       "  <th>Kurtosis:</th>       <td>135.831</td> <th>  Cond. No.          </th>  <td>    5.47</td> \n",
       "</tr>\n",
       "</table>"
      ],
      "text/plain": [
       "<class 'statsmodels.iolib.summary.Summary'>\n",
       "\"\"\"\n",
       "                            OLS Regression Results                            \n",
       "==============================================================================\n",
       "Dep. Variable:         Sale (Dollars)   R-squared:                       1.000\n",
       "Model:                            OLS   Adj. R-squared:                  1.000\n",
       "Method:                 Least Squares   F-statistic:                 2.093e+34\n",
       "Date:                Sat, 15 Oct 2016   Prob (F-statistic):               0.00\n",
       "Time:                        19:00:34   Log-Likelihood:                 27746.\n",
       "No. Observations:                1283   AIC:                        -5.549e+04\n",
       "Df Residuals:                    1281   BIC:                        -5.548e+04\n",
       "Df Model:                           2                                         \n",
       "Covariance Type:            nonrobust                                         \n",
       "=============================================================================================\n",
       "                                coef    std err          t      P>|t|      [95.0% Conf. Int.]\n",
       "---------------------------------------------------------------------------------------------\n",
       "Sale (Dollars)                1.0000   6.09e-18   1.64e+17      0.000         1.000     1.000\n",
       "Jan-March Sales (Dollars) -4.163e-16   2.62e-17    -15.891      0.000     -4.68e-16 -3.65e-16\n",
       "==============================================================================\n",
       "Omnibus:                     1792.848   Durbin-Watson:                   1.683\n",
       "Prob(Omnibus):                  0.000   Jarque-Bera (JB):           955118.236\n",
       "Skew:                          -7.459   Prob(JB):                         0.00\n",
       "Kurtosis:                     135.831   Cond. No.                         5.47\n",
       "==============================================================================\n",
       "\n",
       "Warnings:\n",
       "[1] Standard Errors assume that the covariance matrix of the errors is correctly specified.\n",
       "\"\"\""
      ]
     },
     "execution_count": 326,
     "metadata": {},
     "output_type": "execute_result"
    }
   ],
   "source": [
    "#notice the perfect R2 score. This is a throw out.\n",
    "#it shows that totals sales predicts total sales\n",
    "X= year_2015[['Sale (Dollars)', 'Jan-March Sales (Dollars)']]\n",
    "y= year_2015[\"Sale (Dollars)\"]\n",
    "\n",
    "model = sm.OLS(y, X).fit()\n",
    "predictions = model.predict(X)\n",
    "model.summary() "
   ]
  },
  {
   "cell_type": "code",
   "execution_count": 327,
   "metadata": {
    "collapsed": false
   },
   "outputs": [
    {
     "data": {
      "text/html": [
       "<table class=\"simpletable\">\n",
       "<caption>OLS Regression Results</caption>\n",
       "<tr>\n",
       "  <th>Dep. Variable:</th>     <td>Sale (Dollars)</td>  <th>  R-squared:         </th> <td>   0.677</td> \n",
       "</tr>\n",
       "<tr>\n",
       "  <th>Model:</th>                   <td>OLS</td>       <th>  Adj. R-squared:    </th> <td>   0.676</td> \n",
       "</tr>\n",
       "<tr>\n",
       "  <th>Method:</th>             <td>Least Squares</td>  <th>  F-statistic:       </th> <td>   1341.</td> \n",
       "</tr>\n",
       "<tr>\n",
       "  <th>Date:</th>             <td>Sat, 15 Oct 2016</td> <th>  Prob (F-statistic):</th> <td>6.27e-315</td>\n",
       "</tr>\n",
       "<tr>\n",
       "  <th>Time:</th>                 <td>19:01:58</td>     <th>  Log-Likelihood:    </th> <td> -18079.</td> \n",
       "</tr>\n",
       "<tr>\n",
       "  <th>No. Observations:</th>      <td>  1283</td>      <th>  AIC:               </th> <td>3.616e+04</td>\n",
       "</tr>\n",
       "<tr>\n",
       "  <th>Df Residuals:</th>          <td>  1281</td>      <th>  BIC:               </th> <td>3.617e+04</td>\n",
       "</tr>\n",
       "<tr>\n",
       "  <th>Df Model:</th>              <td>     2</td>      <th>                     </th>     <td> </td>    \n",
       "</tr>\n",
       "<tr>\n",
       "  <th>Covariance Type:</th>      <td>nonrobust</td>    <th>                     </th>     <td> </td>    \n",
       "</tr>\n",
       "</table>\n",
       "<table class=\"simpletable\">\n",
       "<tr>\n",
       "              <td></td>                 <th>coef</th>     <th>std err</th>      <th>t</th>      <th>P>|t|</th> <th>[95.0% Conf. Int.]</th> \n",
       "</tr>\n",
       "<tr>\n",
       "  <th>State Bottle Retail</th>       <td>    8.8442</td> <td>    0.248</td> <td>   35.727</td> <td> 0.000</td> <td>    8.359     9.330</td>\n",
       "</tr>\n",
       "<tr>\n",
       "  <th>Jan-March Sales (Dollars)</th> <td>    0.7597</td> <td>    0.085</td> <td>    8.936</td> <td> 0.000</td> <td>    0.593     0.927</td>\n",
       "</tr>\n",
       "</table>\n",
       "<table class=\"simpletable\">\n",
       "<tr>\n",
       "  <th>Omnibus:</th>       <td>2022.442</td> <th>  Durbin-Watson:     </th>  <td>   1.875</td>  \n",
       "</tr>\n",
       "<tr>\n",
       "  <th>Prob(Omnibus):</th>  <td> 0.000</td>  <th>  Jarque-Bera (JB):  </th> <td>1168912.795</td>\n",
       "</tr>\n",
       "<tr>\n",
       "  <th>Skew:</th>           <td> 9.566</td>  <th>  Prob(JB):          </th>  <td>    0.00</td>  \n",
       "</tr>\n",
       "<tr>\n",
       "  <th>Kurtosis:</th>       <td>149.628</td> <th>  Cond. No.          </th>  <td>    3.78</td>  \n",
       "</tr>\n",
       "</table>"
      ],
      "text/plain": [
       "<class 'statsmodels.iolib.summary.Summary'>\n",
       "\"\"\"\n",
       "                            OLS Regression Results                            \n",
       "==============================================================================\n",
       "Dep. Variable:         Sale (Dollars)   R-squared:                       0.677\n",
       "Model:                            OLS   Adj. R-squared:                  0.676\n",
       "Method:                 Least Squares   F-statistic:                     1341.\n",
       "Date:                Sat, 15 Oct 2016   Prob (F-statistic):          6.27e-315\n",
       "Time:                        19:01:58   Log-Likelihood:                -18079.\n",
       "No. Observations:                1283   AIC:                         3.616e+04\n",
       "Df Residuals:                    1281   BIC:                         3.617e+04\n",
       "Df Model:                           2                                         \n",
       "Covariance Type:            nonrobust                                         \n",
       "=============================================================================================\n",
       "                                coef    std err          t      P>|t|      [95.0% Conf. Int.]\n",
       "---------------------------------------------------------------------------------------------\n",
       "State Bottle Retail           8.8442      0.248     35.727      0.000         8.359     9.330\n",
       "Jan-March Sales (Dollars)     0.7597      0.085      8.936      0.000         0.593     0.927\n",
       "==============================================================================\n",
       "Omnibus:                     2022.442   Durbin-Watson:                   1.875\n",
       "Prob(Omnibus):                  0.000   Jarque-Bera (JB):          1168912.795\n",
       "Skew:                           9.566   Prob(JB):                         0.00\n",
       "Kurtosis:                     149.628   Cond. No.                         3.78\n",
       "==============================================================================\n",
       "\n",
       "Warnings:\n",
       "[1] Standard Errors assume that the covariance matrix of the errors is correctly specified.\n",
       "\"\"\""
      ]
     },
     "execution_count": 327,
     "metadata": {},
     "output_type": "execute_result"
    }
   ],
   "source": [
    "X= year_2015[['State Bottle Retail', 'Jan-March Sales (Dollars)']]\n",
    "y= year_2015[\"Sale (Dollars)\"]\n",
    "\n",
    "model = sm.OLS(y, X).fit()\n",
    "predictions = model.predict(X)\n",
    "model.summary() "
   ]
  },
  {
   "cell_type": "code",
   "execution_count": 328,
   "metadata": {
    "collapsed": false
   },
   "outputs": [
    {
     "data": {
      "text/html": [
       "<table class=\"simpletable\">\n",
       "<caption>OLS Regression Results</caption>\n",
       "<tr>\n",
       "  <th>Dep. Variable:</th>     <td>Sale (Dollars)</td>  <th>  R-squared:         </th> <td>   0.987</td> \n",
       "</tr>\n",
       "<tr>\n",
       "  <th>Model:</th>                   <td>OLS</td>       <th>  Adj. R-squared:    </th> <td>   0.987</td> \n",
       "</tr>\n",
       "<tr>\n",
       "  <th>Method:</th>             <td>Least Squares</td>  <th>  F-statistic:       </th> <td>5.023e+04</td>\n",
       "</tr>\n",
       "<tr>\n",
       "  <th>Date:</th>             <td>Sat, 15 Oct 2016</td> <th>  Prob (F-statistic):</th>  <td>  0.00</td>  \n",
       "</tr>\n",
       "<tr>\n",
       "  <th>Time:</th>                 <td>19:02:56</td>     <th>  Log-Likelihood:    </th> <td> -15998.</td> \n",
       "</tr>\n",
       "<tr>\n",
       "  <th>No. Observations:</th>      <td>  1283</td>      <th>  AIC:               </th> <td>3.200e+04</td>\n",
       "</tr>\n",
       "<tr>\n",
       "  <th>Df Residuals:</th>          <td>  1281</td>      <th>  BIC:               </th> <td>3.201e+04</td>\n",
       "</tr>\n",
       "<tr>\n",
       "  <th>Df Model:</th>              <td>     2</td>      <th>                     </th>     <td> </td>    \n",
       "</tr>\n",
       "<tr>\n",
       "  <th>Covariance Type:</th>      <td>nonrobust</td>    <th>                     </th>     <td> </td>    \n",
       "</tr>\n",
       "</table>\n",
       "<table class=\"simpletable\">\n",
       "<tr>\n",
       "              <td></td>                 <th>coef</th>     <th>std err</th>      <th>t</th>      <th>P>|t|</th> <th>[95.0% Conf. Int.]</th> \n",
       "</tr>\n",
       "<tr>\n",
       "  <th>Volume Sold (Gallons)</th>     <td>   59.8635</td> <td>    0.236</td> <td>  253.694</td> <td> 0.000</td> <td>   59.401    60.326</td>\n",
       "</tr>\n",
       "<tr>\n",
       "  <th>Jan-March Sales (Dollars)</th> <td>   -0.0303</td> <td>    0.017</td> <td>   -1.791</td> <td> 0.074</td> <td>   -0.064     0.003</td>\n",
       "</tr>\n",
       "</table>\n",
       "<table class=\"simpletable\">\n",
       "<tr>\n",
       "  <th>Omnibus:</th>       <td>1210.649</td> <th>  Durbin-Watson:     </th>  <td>   1.513</td> \n",
       "</tr>\n",
       "<tr>\n",
       "  <th>Prob(Omnibus):</th>  <td> 0.000</td>  <th>  Jarque-Bera (JB):  </th> <td>160628.501</td>\n",
       "</tr>\n",
       "<tr>\n",
       "  <th>Skew:</th>           <td> 3.916</td>  <th>  Prob(JB):          </th>  <td>    0.00</td> \n",
       "</tr>\n",
       "<tr>\n",
       "  <th>Kurtosis:</th>       <td>57.253</td>  <th>  Cond. No.          </th>  <td>    17.5</td> \n",
       "</tr>\n",
       "</table>"
      ],
      "text/plain": [
       "<class 'statsmodels.iolib.summary.Summary'>\n",
       "\"\"\"\n",
       "                            OLS Regression Results                            \n",
       "==============================================================================\n",
       "Dep. Variable:         Sale (Dollars)   R-squared:                       0.987\n",
       "Model:                            OLS   Adj. R-squared:                  0.987\n",
       "Method:                 Least Squares   F-statistic:                 5.023e+04\n",
       "Date:                Sat, 15 Oct 2016   Prob (F-statistic):               0.00\n",
       "Time:                        19:02:56   Log-Likelihood:                -15998.\n",
       "No. Observations:                1283   AIC:                         3.200e+04\n",
       "Df Residuals:                    1281   BIC:                         3.201e+04\n",
       "Df Model:                           2                                         \n",
       "Covariance Type:            nonrobust                                         \n",
       "=============================================================================================\n",
       "                                coef    std err          t      P>|t|      [95.0% Conf. Int.]\n",
       "---------------------------------------------------------------------------------------------\n",
       "Volume Sold (Gallons)        59.8635      0.236    253.694      0.000        59.401    60.326\n",
       "Jan-March Sales (Dollars)    -0.0303      0.017     -1.791      0.074        -0.064     0.003\n",
       "==============================================================================\n",
       "Omnibus:                     1210.649   Durbin-Watson:                   1.513\n",
       "Prob(Omnibus):                  0.000   Jarque-Bera (JB):           160628.501\n",
       "Skew:                           3.916   Prob(JB):                         0.00\n",
       "Kurtosis:                      57.253   Cond. No.                         17.5\n",
       "==============================================================================\n",
       "\n",
       "Warnings:\n",
       "[1] Standard Errors assume that the covariance matrix of the errors is correctly specified.\n",
       "\"\"\""
      ]
     },
     "execution_count": 328,
     "metadata": {},
     "output_type": "execute_result"
    }
   ],
   "source": [
    "#this shows a good R2\n",
    "X= year_2015[['Volume Sold (Gallons)', 'Jan-March Sales (Dollars)']]\n",
    "y= year_2015[\"Sale (Dollars)\"]\n",
    "\n",
    "model = sm.OLS(y, X).fit()\n",
    "predictions = model.predict(X)\n",
    "model.summary() "
   ]
  },
  {
   "cell_type": "code",
   "execution_count": 329,
   "metadata": {
    "collapsed": false
   },
   "outputs": [
    {
     "data": {
      "text/html": [
       "<table class=\"simpletable\">\n",
       "<caption>OLS Regression Results</caption>\n",
       "<tr>\n",
       "  <th>Dep. Variable:</th>     <td>Sale (Dollars)</td>  <th>  R-squared:         </th> <td>   0.987</td> \n",
       "</tr>\n",
       "<tr>\n",
       "  <th>Model:</th>                   <td>OLS</td>       <th>  Adj. R-squared:    </th> <td>   0.987</td> \n",
       "</tr>\n",
       "<tr>\n",
       "  <th>Method:</th>             <td>Least Squares</td>  <th>  F-statistic:       </th> <td>5.020e+04</td>\n",
       "</tr>\n",
       "<tr>\n",
       "  <th>Date:</th>             <td>Sat, 15 Oct 2016</td> <th>  Prob (F-statistic):</th>  <td>  0.00</td>  \n",
       "</tr>\n",
       "<tr>\n",
       "  <th>Time:</th>                 <td>19:03:54</td>     <th>  Log-Likelihood:    </th> <td> -15998.</td> \n",
       "</tr>\n",
       "<tr>\n",
       "  <th>No. Observations:</th>      <td>  1283</td>      <th>  AIC:               </th> <td>3.200e+04</td>\n",
       "</tr>\n",
       "<tr>\n",
       "  <th>Df Residuals:</th>          <td>  1281</td>      <th>  BIC:               </th> <td>3.201e+04</td>\n",
       "</tr>\n",
       "<tr>\n",
       "  <th>Df Model:</th>              <td>     2</td>      <th>                     </th>     <td> </td>    \n",
       "</tr>\n",
       "<tr>\n",
       "  <th>Covariance Type:</th>      <td>nonrobust</td>    <th>                     </th>     <td> </td>    \n",
       "</tr>\n",
       "</table>\n",
       "<table class=\"simpletable\">\n",
       "<tr>\n",
       "              <td></td>                 <th>coef</th>     <th>std err</th>      <th>t</th>      <th>P>|t|</th> <th>[95.0% Conf. Int.]</th> \n",
       "</tr>\n",
       "<tr>\n",
       "  <th>Volume Sold (Liters)</th>      <td>   15.8153</td> <td>    0.062</td> <td>  253.617</td> <td> 0.000</td> <td>   15.693    15.938</td>\n",
       "</tr>\n",
       "<tr>\n",
       "  <th>Jan-March Sales (Dollars)</th> <td>   -0.0303</td> <td>    0.017</td> <td>   -1.788</td> <td> 0.074</td> <td>   -0.064     0.003</td>\n",
       "</tr>\n",
       "</table>\n",
       "<table class=\"simpletable\">\n",
       "<tr>\n",
       "  <th>Omnibus:</th>       <td>1210.159</td> <th>  Durbin-Watson:     </th>  <td>   1.513</td> \n",
       "</tr>\n",
       "<tr>\n",
       "  <th>Prob(Omnibus):</th>  <td> 0.000</td>  <th>  Jarque-Bera (JB):  </th> <td>160425.712</td>\n",
       "</tr>\n",
       "<tr>\n",
       "  <th>Skew:</th>           <td> 3.913</td>  <th>  Prob(JB):          </th>  <td>    0.00</td> \n",
       "</tr>\n",
       "<tr>\n",
       "  <th>Kurtosis:</th>       <td>57.219</td>  <th>  Cond. No.          </th>  <td>    4.75</td> \n",
       "</tr>\n",
       "</table>"
      ],
      "text/plain": [
       "<class 'statsmodels.iolib.summary.Summary'>\n",
       "\"\"\"\n",
       "                            OLS Regression Results                            \n",
       "==============================================================================\n",
       "Dep. Variable:         Sale (Dollars)   R-squared:                       0.987\n",
       "Model:                            OLS   Adj. R-squared:                  0.987\n",
       "Method:                 Least Squares   F-statistic:                 5.020e+04\n",
       "Date:                Sat, 15 Oct 2016   Prob (F-statistic):               0.00\n",
       "Time:                        19:03:54   Log-Likelihood:                -15998.\n",
       "No. Observations:                1283   AIC:                         3.200e+04\n",
       "Df Residuals:                    1281   BIC:                         3.201e+04\n",
       "Df Model:                           2                                         \n",
       "Covariance Type:            nonrobust                                         \n",
       "=============================================================================================\n",
       "                                coef    std err          t      P>|t|      [95.0% Conf. Int.]\n",
       "---------------------------------------------------------------------------------------------\n",
       "Volume Sold (Liters)         15.8153      0.062    253.617      0.000        15.693    15.938\n",
       "Jan-March Sales (Dollars)    -0.0303      0.017     -1.788      0.074        -0.064     0.003\n",
       "==============================================================================\n",
       "Omnibus:                     1210.159   Durbin-Watson:                   1.513\n",
       "Prob(Omnibus):                  0.000   Jarque-Bera (JB):           160425.712\n",
       "Skew:                           3.913   Prob(JB):                         0.00\n",
       "Kurtosis:                      57.219   Cond. No.                         4.75\n",
       "==============================================================================\n",
       "\n",
       "Warnings:\n",
       "[1] Standard Errors assume that the covariance matrix of the errors is correctly specified.\n",
       "\"\"\""
      ]
     },
     "execution_count": 329,
     "metadata": {},
     "output_type": "execute_result"
    }
   ],
   "source": [
    "#same R2 as 'Volume Sold (Gallons)', could be same measure just different units\n",
    "X= year_2015[['Volume Sold (Liters)', 'Jan-March Sales (Dollars)']]\n",
    "y= year_2015[\"Sale (Dollars)\"]\n",
    "\n",
    "model = sm.OLS(y, X).fit()\n",
    "predictions = model.predict(X)\n",
    "model.summary() "
   ]
  },
  {
   "cell_type": "code",
   "execution_count": 330,
   "metadata": {
    "collapsed": false
   },
   "outputs": [
    {
     "data": {
      "text/plain": [
       "Index([u'Store Number', u'Bottle Volume (ml)', u'Sale (Dollars)',\n",
       "       u'State Bottle Cost', u'State Bottle Retail', u'Volume Sold (Gallons)',\n",
       "       u'Volume Sold (Liters)', u'Jan-March Sales (Dollars)'],\n",
       "      dtype='object')"
      ]
     },
     "execution_count": 330,
     "metadata": {},
     "output_type": "execute_result"
    }
   ],
   "source": [
    "year_2015.columns"
   ]
  },
  {
   "cell_type": "code",
   "execution_count": 331,
   "metadata": {
    "collapsed": false
   },
   "outputs": [
    {
     "data": {
      "text/html": [
       "<table class=\"simpletable\">\n",
       "<caption>OLS Regression Results</caption>\n",
       "<tr>\n",
       "  <th>Dep. Variable:</th>     <td>Sale (Dollars)</td>  <th>  R-squared:         </th>  <td>   1.000</td> \n",
       "</tr>\n",
       "<tr>\n",
       "  <th>Model:</th>                   <td>OLS</td>       <th>  Adj. R-squared:    </th>  <td>   1.000</td> \n",
       "</tr>\n",
       "<tr>\n",
       "  <th>Method:</th>             <td>Least Squares</td>  <th>  F-statistic:       </th>  <td>2.406e+27</td>\n",
       "</tr>\n",
       "<tr>\n",
       "  <th>Date:</th>             <td>Sat, 15 Oct 2016</td> <th>  Prob (F-statistic):</th>   <td>  0.00</td>  \n",
       "</tr>\n",
       "<tr>\n",
       "  <th>Time:</th>                 <td>19:07:23</td>     <th>  Log-Likelihood:    </th>  <td>  18388.</td> \n",
       "</tr>\n",
       "<tr>\n",
       "  <th>No. Observations:</th>      <td>  1283</td>      <th>  AIC:               </th> <td>-3.676e+04</td>\n",
       "</tr>\n",
       "<tr>\n",
       "  <th>Df Residuals:</th>          <td>  1275</td>      <th>  BIC:               </th> <td>-3.672e+04</td>\n",
       "</tr>\n",
       "<tr>\n",
       "  <th>Df Model:</th>              <td>     8</td>      <th>                     </th>      <td> </td>    \n",
       "</tr>\n",
       "<tr>\n",
       "  <th>Covariance Type:</th>      <td>nonrobust</td>    <th>                     </th>      <td> </td>    \n",
       "</tr>\n",
       "</table>\n",
       "<table class=\"simpletable\">\n",
       "<tr>\n",
       "              <td></td>                 <th>coef</th>     <th>std err</th>      <th>t</th>      <th>P>|t|</th> <th>[95.0% Conf. Int.]</th> \n",
       "</tr>\n",
       "<tr>\n",
       "  <th>Store Number</th>              <td> -2.22e-15</td> <td> 1.16e-12</td> <td>   -0.002</td> <td> 0.998</td> <td>-2.27e-12  2.27e-12</td>\n",
       "</tr>\n",
       "<tr>\n",
       "  <th>Bottle Volume (ml)</th>        <td> 1.318e-16</td> <td>    2e-14</td> <td>    0.007</td> <td> 0.995</td> <td>-3.91e-14  3.94e-14</td>\n",
       "</tr>\n",
       "<tr>\n",
       "  <th>Sale (Dollars)</th>            <td>    1.0000</td> <td> 1.08e-13</td> <td>  9.3e+12</td> <td> 0.000</td> <td>    1.000     1.000</td>\n",
       "</tr>\n",
       "<tr>\n",
       "  <th>State Bottle Cost</th>         <td> 3.638e-12</td> <td> 5.52e-10</td> <td>    0.007</td> <td> 0.995</td> <td>-1.08e-09  1.09e-09</td>\n",
       "</tr>\n",
       "<tr>\n",
       "  <th>State Bottle Retail</th>       <td>-2.046e-12</td> <td> 3.68e-10</td> <td>   -0.006</td> <td> 0.996</td> <td>-7.23e-10  7.19e-10</td>\n",
       "</tr>\n",
       "<tr>\n",
       "  <th>Volume Sold (Gallons)</th>     <td> 3.638e-12</td> <td> 3.53e-09</td> <td>    0.001</td> <td> 0.999</td> <td>-6.92e-09  6.93e-09</td>\n",
       "</tr>\n",
       "<tr>\n",
       "  <th>Volume Sold (Liters)</th>      <td> 2.728e-12</td> <td> 9.32e-10</td> <td>    0.003</td> <td> 0.998</td> <td>-1.83e-09  1.83e-09</td>\n",
       "</tr>\n",
       "<tr>\n",
       "  <th>Jan-March Sales (Dollars)</th> <td>-3.331e-16</td> <td> 4.02e-14</td> <td>   -0.008</td> <td> 0.993</td> <td>-7.92e-14  7.86e-14</td>\n",
       "</tr>\n",
       "</table>\n",
       "<table class=\"simpletable\">\n",
       "<tr>\n",
       "  <th>Omnibus:</th>       <td>1862.262</td> <th>  Durbin-Watson:     </th>  <td>   1.157</td> \n",
       "</tr>\n",
       "<tr>\n",
       "  <th>Prob(Omnibus):</th>  <td> 0.000</td>  <th>  Jarque-Bera (JB):  </th> <td>664173.804</td>\n",
       "</tr>\n",
       "<tr>\n",
       "  <th>Skew:</th>           <td>-8.268</td>  <th>  Prob(JB):          </th>  <td>    0.00</td> \n",
       "</tr>\n",
       "<tr>\n",
       "  <th>Kurtosis:</th>       <td>113.230</td> <th>  Cond. No.          </th>  <td>2.39e+06</td> \n",
       "</tr>\n",
       "</table>"
      ],
      "text/plain": [
       "<class 'statsmodels.iolib.summary.Summary'>\n",
       "\"\"\"\n",
       "                            OLS Regression Results                            \n",
       "==============================================================================\n",
       "Dep. Variable:         Sale (Dollars)   R-squared:                       1.000\n",
       "Model:                            OLS   Adj. R-squared:                  1.000\n",
       "Method:                 Least Squares   F-statistic:                 2.406e+27\n",
       "Date:                Sat, 15 Oct 2016   Prob (F-statistic):               0.00\n",
       "Time:                        19:07:23   Log-Likelihood:                 18388.\n",
       "No. Observations:                1283   AIC:                        -3.676e+04\n",
       "Df Residuals:                    1275   BIC:                        -3.672e+04\n",
       "Df Model:                           8                                         \n",
       "Covariance Type:            nonrobust                                         \n",
       "=============================================================================================\n",
       "                                coef    std err          t      P>|t|      [95.0% Conf. Int.]\n",
       "---------------------------------------------------------------------------------------------\n",
       "Store Number               -2.22e-15   1.16e-12     -0.002      0.998     -2.27e-12  2.27e-12\n",
       "Bottle Volume (ml)         1.318e-16      2e-14      0.007      0.995     -3.91e-14  3.94e-14\n",
       "Sale (Dollars)                1.0000   1.08e-13    9.3e+12      0.000         1.000     1.000\n",
       "State Bottle Cost          3.638e-12   5.52e-10      0.007      0.995     -1.08e-09  1.09e-09\n",
       "State Bottle Retail       -2.046e-12   3.68e-10     -0.006      0.996     -7.23e-10  7.19e-10\n",
       "Volume Sold (Gallons)      3.638e-12   3.53e-09      0.001      0.999     -6.92e-09  6.93e-09\n",
       "Volume Sold (Liters)       2.728e-12   9.32e-10      0.003      0.998     -1.83e-09  1.83e-09\n",
       "Jan-March Sales (Dollars) -3.331e-16   4.02e-14     -0.008      0.993     -7.92e-14  7.86e-14\n",
       "==============================================================================\n",
       "Omnibus:                     1862.262   Durbin-Watson:                   1.157\n",
       "Prob(Omnibus):                  0.000   Jarque-Bera (JB):           664173.804\n",
       "Skew:                          -8.268   Prob(JB):                         0.00\n",
       "Kurtosis:                     113.230   Cond. No.                     2.39e+06\n",
       "==============================================================================\n",
       "\n",
       "Warnings:\n",
       "[1] Standard Errors assume that the covariance matrix of the errors is correctly specified.\n",
       "[2] The condition number is large, 2.39e+06. This might indicate that there are\n",
       "strong multicollinearity or other numerical problems.\n",
       "\"\"\""
      ]
     },
     "execution_count": 331,
     "metadata": {},
     "output_type": "execute_result"
    }
   ],
   "source": [
    "#again, this is invalid because 'Sale (Dollars)' perfectly predicts itself\n",
    "X= year_2015[['Store Number', 'Bottle Volume (ml)', 'Sale (Dollars)',\n",
    "        'State Bottle Cost',  'State Bottle Retail', 'Volume Sold (Gallons)',\n",
    "        'Volume Sold (Liters)',  'Jan-March Sales (Dollars)']]\n",
    "y= year_2015[\"Sale (Dollars)\"]\n",
    "\n",
    "model = sm.OLS(y, X).fit()\n",
    "predictions = model.predict(X)\n",
    "model.summary() "
   ]
  },
  {
   "cell_type": "code",
   "execution_count": 332,
   "metadata": {
    "collapsed": false
   },
   "outputs": [
    {
     "data": {
      "text/html": [
       "<table class=\"simpletable\">\n",
       "<caption>OLS Regression Results</caption>\n",
       "<tr>\n",
       "  <th>Dep. Variable:</th>     <td>Sale (Dollars)</td>  <th>  R-squared:         </th> <td>   0.996</td> \n",
       "</tr>\n",
       "<tr>\n",
       "  <th>Model:</th>                   <td>OLS</td>       <th>  Adj. R-squared:    </th> <td>   0.995</td> \n",
       "</tr>\n",
       "<tr>\n",
       "  <th>Method:</th>             <td>Least Squares</td>  <th>  F-statistic:       </th> <td>4.040e+04</td>\n",
       "</tr>\n",
       "<tr>\n",
       "  <th>Date:</th>             <td>Sat, 15 Oct 2016</td> <th>  Prob (F-statistic):</th>  <td>  0.00</td>  \n",
       "</tr>\n",
       "<tr>\n",
       "  <th>Time:</th>                 <td>19:08:44</td>     <th>  Log-Likelihood:    </th> <td> -15336.</td> \n",
       "</tr>\n",
       "<tr>\n",
       "  <th>No. Observations:</th>      <td>  1283</td>      <th>  AIC:               </th> <td>3.069e+04</td>\n",
       "</tr>\n",
       "<tr>\n",
       "  <th>Df Residuals:</th>          <td>  1276</td>      <th>  BIC:               </th> <td>3.072e+04</td>\n",
       "</tr>\n",
       "<tr>\n",
       "  <th>Df Model:</th>              <td>     7</td>      <th>                     </th>     <td> </td>    \n",
       "</tr>\n",
       "<tr>\n",
       "  <th>Covariance Type:</th>      <td>nonrobust</td>    <th>                     </th>     <td> </td>    \n",
       "</tr>\n",
       "</table>\n",
       "<table class=\"simpletable\">\n",
       "<tr>\n",
       "              <td></td>                 <th>coef</th>     <th>std err</th>      <th>t</th>      <th>P>|t|</th> <th>[95.0% Conf. Int.]</th> \n",
       "</tr>\n",
       "<tr>\n",
       "  <th>Store Number</th>              <td>    0.0806</td> <td>    0.301</td> <td>    0.267</td> <td> 0.789</td> <td>   -0.511     0.672</td>\n",
       "</tr>\n",
       "<tr>\n",
       "  <th>Bottle Volume (ml)</th>        <td>   -0.1105</td> <td>    0.004</td> <td>  -26.413</td> <td> 0.000</td> <td>   -0.119    -0.102</td>\n",
       "</tr>\n",
       "<tr>\n",
       "  <th>State Bottle Cost</th>         <td> 1069.5976</td> <td>  140.409</td> <td>    7.618</td> <td> 0.000</td> <td>  794.141  1345.055</td>\n",
       "</tr>\n",
       "<tr>\n",
       "  <th>State Bottle Retail</th>       <td> -706.1690</td> <td>   93.641</td> <td>   -7.541</td> <td> 0.000</td> <td> -889.877  -522.462</td>\n",
       "</tr>\n",
       "<tr>\n",
       "  <th>Volume Sold (Gallons)</th>     <td> 1041.8143</td> <td>  918.334</td> <td>    1.134</td> <td> 0.257</td> <td> -759.796  2843.425</td>\n",
       "</tr>\n",
       "<tr>\n",
       "  <th>Volume Sold (Liters)</th>      <td> -259.4026</td> <td>  242.604</td> <td>   -1.069</td> <td> 0.285</td> <td> -735.350   216.544</td>\n",
       "</tr>\n",
       "<tr>\n",
       "  <th>Jan-March Sales (Dollars)</th> <td>    0.0302</td> <td>    0.010</td> <td>    2.895</td> <td> 0.004</td> <td>    0.010     0.051</td>\n",
       "</tr>\n",
       "</table>\n",
       "<table class=\"simpletable\">\n",
       "<tr>\n",
       "  <th>Omnibus:</th>       <td>662.609</td> <th>  Durbin-Watson:     </th>  <td>   1.976</td> \n",
       "</tr>\n",
       "<tr>\n",
       "  <th>Prob(Omnibus):</th> <td> 0.000</td>  <th>  Jarque-Bera (JB):  </th> <td>178122.010</td>\n",
       "</tr>\n",
       "<tr>\n",
       "  <th>Skew:</th>          <td> 1.179</td>  <th>  Prob(JB):          </th>  <td>    0.00</td> \n",
       "</tr>\n",
       "<tr>\n",
       "  <th>Kurtosis:</th>      <td>60.675</td>  <th>  Cond. No.          </th>  <td>2.36e+06</td> \n",
       "</tr>\n",
       "</table>"
      ],
      "text/plain": [
       "<class 'statsmodels.iolib.summary.Summary'>\n",
       "\"\"\"\n",
       "                            OLS Regression Results                            \n",
       "==============================================================================\n",
       "Dep. Variable:         Sale (Dollars)   R-squared:                       0.996\n",
       "Model:                            OLS   Adj. R-squared:                  0.995\n",
       "Method:                 Least Squares   F-statistic:                 4.040e+04\n",
       "Date:                Sat, 15 Oct 2016   Prob (F-statistic):               0.00\n",
       "Time:                        19:08:44   Log-Likelihood:                -15336.\n",
       "No. Observations:                1283   AIC:                         3.069e+04\n",
       "Df Residuals:                    1276   BIC:                         3.072e+04\n",
       "Df Model:                           7                                         \n",
       "Covariance Type:            nonrobust                                         \n",
       "=============================================================================================\n",
       "                                coef    std err          t      P>|t|      [95.0% Conf. Int.]\n",
       "---------------------------------------------------------------------------------------------\n",
       "Store Number                  0.0806      0.301      0.267      0.789        -0.511     0.672\n",
       "Bottle Volume (ml)           -0.1105      0.004    -26.413      0.000        -0.119    -0.102\n",
       "State Bottle Cost          1069.5976    140.409      7.618      0.000       794.141  1345.055\n",
       "State Bottle Retail        -706.1690     93.641     -7.541      0.000      -889.877  -522.462\n",
       "Volume Sold (Gallons)      1041.8143    918.334      1.134      0.257      -759.796  2843.425\n",
       "Volume Sold (Liters)       -259.4026    242.604     -1.069      0.285      -735.350   216.544\n",
       "Jan-March Sales (Dollars)     0.0302      0.010      2.895      0.004         0.010     0.051\n",
       "==============================================================================\n",
       "Omnibus:                      662.609   Durbin-Watson:                   1.976\n",
       "Prob(Omnibus):                  0.000   Jarque-Bera (JB):           178122.010\n",
       "Skew:                           1.179   Prob(JB):                         0.00\n",
       "Kurtosis:                      60.675   Cond. No.                     2.36e+06\n",
       "==============================================================================\n",
       "\n",
       "Warnings:\n",
       "[1] Standard Errors assume that the covariance matrix of the errors is correctly specified.\n",
       "[2] The condition number is large, 2.36e+06. This might indicate that there are\n",
       "strong multicollinearity or other numerical problems.\n",
       "\"\"\""
      ]
     },
     "execution_count": 332,
     "metadata": {},
     "output_type": "execute_result"
    }
   ],
   "source": [
    "X= year_2015[['Store Number', 'Bottle Volume (ml)','State Bottle Cost',  \n",
    "              'State Bottle Retail', 'Volume Sold (Gallons)',\n",
    "              'Volume Sold (Liters)',  'Jan-March Sales (Dollars)']]\n",
    "y= year_2015[\"Sale (Dollars)\"]\n",
    "\n",
    "model = sm.OLS(y, X).fit()\n",
    "predictions = model.predict(X)\n",
    "model.summary() "
   ]
  },
  {
   "cell_type": "code",
   "execution_count": 333,
   "metadata": {
    "collapsed": false
   },
   "outputs": [
    {
     "data": {
      "text/html": [
       "<table class=\"simpletable\">\n",
       "<caption>OLS Regression Results</caption>\n",
       "<tr>\n",
       "  <th>Dep. Variable:</th>     <td>Sale (Dollars)</td>  <th>  R-squared:         </th> <td>   0.996</td> \n",
       "</tr>\n",
       "<tr>\n",
       "  <th>Model:</th>                   <td>OLS</td>       <th>  Adj. R-squared:    </th> <td>   0.995</td> \n",
       "</tr>\n",
       "<tr>\n",
       "  <th>Method:</th>             <td>Least Squares</td>  <th>  F-statistic:       </th> <td>4.713e+04</td>\n",
       "</tr>\n",
       "<tr>\n",
       "  <th>Date:</th>             <td>Sat, 15 Oct 2016</td> <th>  Prob (F-statistic):</th>  <td>  0.00</td>  \n",
       "</tr>\n",
       "<tr>\n",
       "  <th>Time:</th>                 <td>19:10:18</td>     <th>  Log-Likelihood:    </th> <td> -15337.</td> \n",
       "</tr>\n",
       "<tr>\n",
       "  <th>No. Observations:</th>      <td>  1283</td>      <th>  AIC:               </th> <td>3.069e+04</td>\n",
       "</tr>\n",
       "<tr>\n",
       "  <th>Df Residuals:</th>          <td>  1277</td>      <th>  BIC:               </th> <td>3.072e+04</td>\n",
       "</tr>\n",
       "<tr>\n",
       "  <th>Df Model:</th>              <td>     6</td>      <th>                     </th>     <td> </td>    \n",
       "</tr>\n",
       "<tr>\n",
       "  <th>Covariance Type:</th>      <td>nonrobust</td>    <th>                     </th>     <td> </td>    \n",
       "</tr>\n",
       "</table>\n",
       "<table class=\"simpletable\">\n",
       "<tr>\n",
       "              <td></td>                 <th>coef</th>     <th>std err</th>      <th>t</th>      <th>P>|t|</th> <th>[95.0% Conf. Int.]</th> \n",
       "</tr>\n",
       "<tr>\n",
       "  <th>Store Number</th>              <td>    0.1208</td> <td>    0.299</td> <td>    0.404</td> <td> 0.686</td> <td>   -0.466     0.707</td>\n",
       "</tr>\n",
       "<tr>\n",
       "  <th>Bottle Volume (ml)</th>        <td>   -0.1118</td> <td>    0.004</td> <td>  -27.965</td> <td> 0.000</td> <td>   -0.120    -0.104</td>\n",
       "</tr>\n",
       "<tr>\n",
       "  <th>State Bottle Cost</th>         <td> 1069.6506</td> <td>  140.416</td> <td>    7.618</td> <td> 0.000</td> <td>  794.178  1345.123</td>\n",
       "</tr>\n",
       "<tr>\n",
       "  <th>State Bottle Retail</th>       <td> -706.1180</td> <td>   93.646</td> <td>   -7.540</td> <td> 0.000</td> <td> -889.836  -522.400</td>\n",
       "</tr>\n",
       "<tr>\n",
       "  <th>Volume Sold (Gallons)</th>     <td>   59.8930</td> <td>    0.222</td> <td>  270.051</td> <td> 0.000</td> <td>   59.458    60.328</td>\n",
       "</tr>\n",
       "<tr>\n",
       "  <th>Jan-March Sales (Dollars)</th> <td>    0.0301</td> <td>    0.010</td> <td>    2.888</td> <td> 0.004</td> <td>    0.010     0.051</td>\n",
       "</tr>\n",
       "</table>\n",
       "<table class=\"simpletable\">\n",
       "<tr>\n",
       "  <th>Omnibus:</th>       <td>657.308</td> <th>  Durbin-Watson:     </th>  <td>   1.977</td> \n",
       "</tr>\n",
       "<tr>\n",
       "  <th>Prob(Omnibus):</th> <td> 0.000</td>  <th>  Jarque-Bera (JB):  </th> <td>178337.429</td>\n",
       "</tr>\n",
       "<tr>\n",
       "  <th>Skew:</th>          <td> 1.156</td>  <th>  Prob(JB):          </th>  <td>    0.00</td> \n",
       "</tr>\n",
       "<tr>\n",
       "  <th>Kurtosis:</th>      <td>60.712</td>  <th>  Cond. No.          </th>  <td>4.19e+05</td> \n",
       "</tr>\n",
       "</table>"
      ],
      "text/plain": [
       "<class 'statsmodels.iolib.summary.Summary'>\n",
       "\"\"\"\n",
       "                            OLS Regression Results                            \n",
       "==============================================================================\n",
       "Dep. Variable:         Sale (Dollars)   R-squared:                       0.996\n",
       "Model:                            OLS   Adj. R-squared:                  0.995\n",
       "Method:                 Least Squares   F-statistic:                 4.713e+04\n",
       "Date:                Sat, 15 Oct 2016   Prob (F-statistic):               0.00\n",
       "Time:                        19:10:18   Log-Likelihood:                -15337.\n",
       "No. Observations:                1283   AIC:                         3.069e+04\n",
       "Df Residuals:                    1277   BIC:                         3.072e+04\n",
       "Df Model:                           6                                         \n",
       "Covariance Type:            nonrobust                                         \n",
       "=============================================================================================\n",
       "                                coef    std err          t      P>|t|      [95.0% Conf. Int.]\n",
       "---------------------------------------------------------------------------------------------\n",
       "Store Number                  0.1208      0.299      0.404      0.686        -0.466     0.707\n",
       "Bottle Volume (ml)           -0.1118      0.004    -27.965      0.000        -0.120    -0.104\n",
       "State Bottle Cost          1069.6506    140.416      7.618      0.000       794.178  1345.123\n",
       "State Bottle Retail        -706.1180     93.646     -7.540      0.000      -889.836  -522.400\n",
       "Volume Sold (Gallons)        59.8930      0.222    270.051      0.000        59.458    60.328\n",
       "Jan-March Sales (Dollars)     0.0301      0.010      2.888      0.004         0.010     0.051\n",
       "==============================================================================\n",
       "Omnibus:                      657.308   Durbin-Watson:                   1.977\n",
       "Prob(Omnibus):                  0.000   Jarque-Bera (JB):           178337.429\n",
       "Skew:                           1.156   Prob(JB):                         0.00\n",
       "Kurtosis:                      60.712   Cond. No.                     4.19e+05\n",
       "==============================================================================\n",
       "\n",
       "Warnings:\n",
       "[1] Standard Errors assume that the covariance matrix of the errors is correctly specified.\n",
       "[2] The condition number is large, 4.19e+05. This might indicate that there are\n",
       "strong multicollinearity or other numerical problems.\n",
       "\"\"\""
      ]
     },
     "execution_count": 333,
     "metadata": {},
     "output_type": "execute_result"
    }
   ],
   "source": [
    "X= year_2015[['Store Number', 'Bottle Volume (ml)','State Bottle Cost',  \n",
    "              'State Bottle Retail', 'Volume Sold (Gallons)',\n",
    "              'Jan-March Sales (Dollars)']]\n",
    "y= year_2015[\"Sale (Dollars)\"]\n",
    "\n",
    "model = sm.OLS(y, X).fit()\n",
    "predictions = model.predict(X)\n",
    "model.summary() "
   ]
  },
  {
   "cell_type": "code",
   "execution_count": 334,
   "metadata": {
    "collapsed": false
   },
   "outputs": [
    {
     "data": {
      "text/html": [
       "<table class=\"simpletable\">\n",
       "<caption>OLS Regression Results</caption>\n",
       "<tr>\n",
       "  <th>Dep. Variable:</th>     <td>Sale (Dollars)</td>  <th>  R-squared:         </th> <td>   0.739</td> \n",
       "</tr>\n",
       "<tr>\n",
       "  <th>Model:</th>                   <td>OLS</td>       <th>  Adj. R-squared:    </th> <td>   0.738</td> \n",
       "</tr>\n",
       "<tr>\n",
       "  <th>Method:</th>             <td>Least Squares</td>  <th>  F-statistic:       </th> <td>   722.8</td> \n",
       "</tr>\n",
       "<tr>\n",
       "  <th>Date:</th>             <td>Sat, 15 Oct 2016</td> <th>  Prob (F-statistic):</th>  <td>  0.00</td>  \n",
       "</tr>\n",
       "<tr>\n",
       "  <th>Time:</th>                 <td>19:10:52</td>     <th>  Log-Likelihood:    </th> <td> -17943.</td> \n",
       "</tr>\n",
       "<tr>\n",
       "  <th>No. Observations:</th>      <td>  1283</td>      <th>  AIC:               </th> <td>3.590e+04</td>\n",
       "</tr>\n",
       "<tr>\n",
       "  <th>Df Residuals:</th>          <td>  1278</td>      <th>  BIC:               </th> <td>3.592e+04</td>\n",
       "</tr>\n",
       "<tr>\n",
       "  <th>Df Model:</th>              <td>     5</td>      <th>                     </th>     <td> </td>    \n",
       "</tr>\n",
       "<tr>\n",
       "  <th>Covariance Type:</th>      <td>nonrobust</td>    <th>                     </th>     <td> </td>    \n",
       "</tr>\n",
       "</table>\n",
       "<table class=\"simpletable\">\n",
       "<tr>\n",
       "              <td></td>                 <th>coef</th>     <th>std err</th>      <th>t</th>      <th>P>|t|</th> <th>[95.0% Conf. Int.]</th> \n",
       "</tr>\n",
       "<tr>\n",
       "  <th>Store Number</th>              <td>   -6.3541</td> <td>    2.271</td> <td>   -2.797</td> <td> 0.005</td> <td>  -10.810    -1.898</td>\n",
       "</tr>\n",
       "<tr>\n",
       "  <th>Bottle Volume (ml)</th>        <td>    0.0283</td> <td>    0.030</td> <td>    0.937</td> <td> 0.349</td> <td>   -0.031     0.088</td>\n",
       "</tr>\n",
       "<tr>\n",
       "  <th>State Bottle Cost</th>         <td> 1.343e+04</td> <td> 1011.488</td> <td>   13.281</td> <td> 0.000</td> <td> 1.14e+04  1.54e+04</td>\n",
       "</tr>\n",
       "<tr>\n",
       "  <th>State Bottle Retail</th>       <td>-8938.2464</td> <td>  674.712</td> <td>  -13.248</td> <td> 0.000</td> <td>-1.03e+04 -7614.582</td>\n",
       "</tr>\n",
       "<tr>\n",
       "  <th>Jan-March Sales (Dollars)</th> <td>    0.7764</td> <td>    0.077</td> <td>   10.127</td> <td> 0.000</td> <td>    0.626     0.927</td>\n",
       "</tr>\n",
       "</table>\n",
       "<table class=\"simpletable\">\n",
       "<tr>\n",
       "  <th>Omnibus:</th>       <td>1508.183</td> <th>  Durbin-Watson:     </th>  <td>   1.868</td> \n",
       "</tr>\n",
       "<tr>\n",
       "  <th>Prob(Omnibus):</th>  <td> 0.000</td>  <th>  Jarque-Bera (JB):  </th> <td>302065.333</td>\n",
       "</tr>\n",
       "<tr>\n",
       "  <th>Skew:</th>           <td> 5.661</td>  <th>  Prob(JB):          </th>  <td>    0.00</td> \n",
       "</tr>\n",
       "<tr>\n",
       "  <th>Kurtosis:</th>       <td>77.312</td>  <th>  Cond. No.          </th>  <td>3.96e+05</td> \n",
       "</tr>\n",
       "</table>"
      ],
      "text/plain": [
       "<class 'statsmodels.iolib.summary.Summary'>\n",
       "\"\"\"\n",
       "                            OLS Regression Results                            \n",
       "==============================================================================\n",
       "Dep. Variable:         Sale (Dollars)   R-squared:                       0.739\n",
       "Model:                            OLS   Adj. R-squared:                  0.738\n",
       "Method:                 Least Squares   F-statistic:                     722.8\n",
       "Date:                Sat, 15 Oct 2016   Prob (F-statistic):               0.00\n",
       "Time:                        19:10:52   Log-Likelihood:                -17943.\n",
       "No. Observations:                1283   AIC:                         3.590e+04\n",
       "Df Residuals:                    1278   BIC:                         3.592e+04\n",
       "Df Model:                           5                                         \n",
       "Covariance Type:            nonrobust                                         \n",
       "=============================================================================================\n",
       "                                coef    std err          t      P>|t|      [95.0% Conf. Int.]\n",
       "---------------------------------------------------------------------------------------------\n",
       "Store Number                 -6.3541      2.271     -2.797      0.005       -10.810    -1.898\n",
       "Bottle Volume (ml)            0.0283      0.030      0.937      0.349        -0.031     0.088\n",
       "State Bottle Cost          1.343e+04   1011.488     13.281      0.000      1.14e+04  1.54e+04\n",
       "State Bottle Retail       -8938.2464    674.712    -13.248      0.000     -1.03e+04 -7614.582\n",
       "Jan-March Sales (Dollars)     0.7764      0.077     10.127      0.000         0.626     0.927\n",
       "==============================================================================\n",
       "Omnibus:                     1508.183   Durbin-Watson:                   1.868\n",
       "Prob(Omnibus):                  0.000   Jarque-Bera (JB):           302065.333\n",
       "Skew:                           5.661   Prob(JB):                         0.00\n",
       "Kurtosis:                      77.312   Cond. No.                     3.96e+05\n",
       "==============================================================================\n",
       "\n",
       "Warnings:\n",
       "[1] Standard Errors assume that the covariance matrix of the errors is correctly specified.\n",
       "[2] The condition number is large, 3.96e+05. This might indicate that there are\n",
       "strong multicollinearity or other numerical problems.\n",
       "\"\"\""
      ]
     },
     "execution_count": 334,
     "metadata": {},
     "output_type": "execute_result"
    }
   ],
   "source": [
    "X= year_2015[['Store Number', 'Bottle Volume (ml)','State Bottle Cost',  \n",
    "              'State Bottle Retail', 'Jan-March Sales (Dollars)']]\n",
    "y= year_2015[\"Sale (Dollars)\"]\n",
    "\n",
    "model = sm.OLS(y, X).fit()\n",
    "predictions = model.predict(X)\n",
    "model.summary() "
   ]
  },
  {
   "cell_type": "code",
   "execution_count": 335,
   "metadata": {
    "collapsed": false
   },
   "outputs": [
    {
     "data": {
      "text/html": [
       "<table class=\"simpletable\">\n",
       "<caption>OLS Regression Results</caption>\n",
       "<tr>\n",
       "  <th>Dep. Variable:</th>     <td>Sale (Dollars)</td>  <th>  R-squared:         </th> <td>   0.703</td> \n",
       "</tr>\n",
       "<tr>\n",
       "  <th>Model:</th>                   <td>OLS</td>       <th>  Adj. R-squared:    </th> <td>   0.702</td> \n",
       "</tr>\n",
       "<tr>\n",
       "  <th>Method:</th>             <td>Least Squares</td>  <th>  F-statistic:       </th> <td>   756.5</td> \n",
       "</tr>\n",
       "<tr>\n",
       "  <th>Date:</th>             <td>Sat, 15 Oct 2016</td> <th>  Prob (F-statistic):</th>  <td>  0.00</td>  \n",
       "</tr>\n",
       "<tr>\n",
       "  <th>Time:</th>                 <td>19:13:06</td>     <th>  Log-Likelihood:    </th> <td> -18026.</td> \n",
       "</tr>\n",
       "<tr>\n",
       "  <th>No. Observations:</th>      <td>  1283</td>      <th>  AIC:               </th> <td>3.606e+04</td>\n",
       "</tr>\n",
       "<tr>\n",
       "  <th>Df Residuals:</th>          <td>  1279</td>      <th>  BIC:               </th> <td>3.608e+04</td>\n",
       "</tr>\n",
       "<tr>\n",
       "  <th>Df Model:</th>              <td>     4</td>      <th>                     </th>     <td> </td>    \n",
       "</tr>\n",
       "<tr>\n",
       "  <th>Covariance Type:</th>      <td>nonrobust</td>    <th>                     </th>     <td> </td>    \n",
       "</tr>\n",
       "</table>\n",
       "<table class=\"simpletable\">\n",
       "<tr>\n",
       "              <td></td>                 <th>coef</th>     <th>std err</th>      <th>t</th>      <th>P>|t|</th> <th>[95.0% Conf. Int.]</th> \n",
       "</tr>\n",
       "<tr>\n",
       "  <th>Store Number</th>              <td>   -1.7654</td> <td>    2.393</td> <td>   -0.738</td> <td> 0.461</td> <td>   -6.460     2.929</td>\n",
       "</tr>\n",
       "<tr>\n",
       "  <th>Bottle Volume (ml)</th>        <td>   -0.2358</td> <td>    0.024</td> <td>   -9.744</td> <td> 0.000</td> <td>   -0.283    -0.188</td>\n",
       "</tr>\n",
       "<tr>\n",
       "  <th>State Bottle Cost</th>         <td>   33.7928</td> <td>    2.084</td> <td>   16.213</td> <td> 0.000</td> <td>   29.704    37.882</td>\n",
       "</tr>\n",
       "<tr>\n",
       "  <th>Jan-March Sales (Dollars)</th> <td>    0.7861</td> <td>    0.082</td> <td>    9.619</td> <td> 0.000</td> <td>    0.626     0.946</td>\n",
       "</tr>\n",
       "</table>\n",
       "<table class=\"simpletable\">\n",
       "<tr>\n",
       "  <th>Omnibus:</th>       <td>1697.536</td> <th>  Durbin-Watson:     </th>  <td>   1.867</td> \n",
       "</tr>\n",
       "<tr>\n",
       "  <th>Prob(Omnibus):</th>  <td> 0.000</td>  <th>  Jarque-Bera (JB):  </th> <td>536138.120</td>\n",
       "</tr>\n",
       "<tr>\n",
       "  <th>Skew:</th>           <td> 6.902</td>  <th>  Prob(JB):          </th>  <td>    0.00</td> \n",
       "</tr>\n",
       "<tr>\n",
       "  <th>Kurtosis:</th>       <td>102.189</td> <th>  Cond. No.          </th>  <td>    779.</td> \n",
       "</tr>\n",
       "</table>"
      ],
      "text/plain": [
       "<class 'statsmodels.iolib.summary.Summary'>\n",
       "\"\"\"\n",
       "                            OLS Regression Results                            \n",
       "==============================================================================\n",
       "Dep. Variable:         Sale (Dollars)   R-squared:                       0.703\n",
       "Model:                            OLS   Adj. R-squared:                  0.702\n",
       "Method:                 Least Squares   F-statistic:                     756.5\n",
       "Date:                Sat, 15 Oct 2016   Prob (F-statistic):               0.00\n",
       "Time:                        19:13:06   Log-Likelihood:                -18026.\n",
       "No. Observations:                1283   AIC:                         3.606e+04\n",
       "Df Residuals:                    1279   BIC:                         3.608e+04\n",
       "Df Model:                           4                                         \n",
       "Covariance Type:            nonrobust                                         \n",
       "=============================================================================================\n",
       "                                coef    std err          t      P>|t|      [95.0% Conf. Int.]\n",
       "---------------------------------------------------------------------------------------------\n",
       "Store Number                 -1.7654      2.393     -0.738      0.461        -6.460     2.929\n",
       "Bottle Volume (ml)           -0.2358      0.024     -9.744      0.000        -0.283    -0.188\n",
       "State Bottle Cost            33.7928      2.084     16.213      0.000        29.704    37.882\n",
       "Jan-March Sales (Dollars)     0.7861      0.082      9.619      0.000         0.626     0.946\n",
       "==============================================================================\n",
       "Omnibus:                     1697.536   Durbin-Watson:                   1.867\n",
       "Prob(Omnibus):                  0.000   Jarque-Bera (JB):           536138.120\n",
       "Skew:                           6.902   Prob(JB):                         0.00\n",
       "Kurtosis:                     102.189   Cond. No.                         779.\n",
       "==============================================================================\n",
       "\n",
       "Warnings:\n",
       "[1] Standard Errors assume that the covariance matrix of the errors is correctly specified.\n",
       "\"\"\""
      ]
     },
     "execution_count": 335,
     "metadata": {},
     "output_type": "execute_result"
    }
   ],
   "source": [
    "X= year_2015[['Store Number', 'Bottle Volume (ml)','State Bottle Cost',  \n",
    "              'Jan-March Sales (Dollars)']]\n",
    "y= year_2015[\"Sale (Dollars)\"]\n",
    "\n",
    "model = sm.OLS(y, X).fit()\n",
    "predictions = model.predict(X)\n",
    "model.summary()"
   ]
  },
  {
   "cell_type": "code",
   "execution_count": 336,
   "metadata": {
    "collapsed": false
   },
   "outputs": [
    {
     "data": {
      "text/html": [
       "<table class=\"simpletable\">\n",
       "<caption>OLS Regression Results</caption>\n",
       "<tr>\n",
       "  <th>Dep. Variable:</th>     <td>Sale (Dollars)</td>  <th>  R-squared:         </th> <td>   0.703</td> \n",
       "</tr>\n",
       "<tr>\n",
       "  <th>Model:</th>                   <td>OLS</td>       <th>  Adj. R-squared:    </th> <td>   0.702</td> \n",
       "</tr>\n",
       "<tr>\n",
       "  <th>Method:</th>             <td>Least Squares</td>  <th>  F-statistic:       </th> <td>   1009.</td> \n",
       "</tr>\n",
       "<tr>\n",
       "  <th>Date:</th>             <td>Sat, 15 Oct 2016</td> <th>  Prob (F-statistic):</th>  <td>  0.00</td>  \n",
       "</tr>\n",
       "<tr>\n",
       "  <th>Time:</th>                 <td>19:13:54</td>     <th>  Log-Likelihood:    </th> <td> -18026.</td> \n",
       "</tr>\n",
       "<tr>\n",
       "  <th>No. Observations:</th>      <td>  1283</td>      <th>  AIC:               </th> <td>3.606e+04</td>\n",
       "</tr>\n",
       "<tr>\n",
       "  <th>Df Residuals:</th>          <td>  1280</td>      <th>  BIC:               </th> <td>3.607e+04</td>\n",
       "</tr>\n",
       "<tr>\n",
       "  <th>Df Model:</th>              <td>     3</td>      <th>                     </th>     <td> </td>    \n",
       "</tr>\n",
       "<tr>\n",
       "  <th>Covariance Type:</th>      <td>nonrobust</td>    <th>                     </th>     <td> </td>    \n",
       "</tr>\n",
       "</table>\n",
       "<table class=\"simpletable\">\n",
       "<tr>\n",
       "              <td></td>                 <th>coef</th>     <th>std err</th>      <th>t</th>      <th>P>|t|</th> <th>[95.0% Conf. Int.]</th> \n",
       "</tr>\n",
       "<tr>\n",
       "  <th>Bottle Volume (ml)</th>        <td>   -0.2416</td> <td>    0.023</td> <td>  -10.546</td> <td> 0.000</td> <td>   -0.286    -0.197</td>\n",
       "</tr>\n",
       "<tr>\n",
       "  <th>State Bottle Cost</th>         <td>   34.1875</td> <td>    2.014</td> <td>   16.975</td> <td> 0.000</td> <td>   30.236    38.139</td>\n",
       "</tr>\n",
       "<tr>\n",
       "  <th>Jan-March Sales (Dollars)</th> <td>    0.7829</td> <td>    0.082</td> <td>    9.595</td> <td> 0.000</td> <td>    0.623     0.943</td>\n",
       "</tr>\n",
       "</table>\n",
       "<table class=\"simpletable\">\n",
       "<tr>\n",
       "  <th>Omnibus:</th>       <td>1704.476</td> <th>  Durbin-Watson:     </th>  <td>   1.869</td> \n",
       "</tr>\n",
       "<tr>\n",
       "  <th>Prob(Omnibus):</th>  <td> 0.000</td>  <th>  Jarque-Bera (JB):  </th> <td>542524.628</td>\n",
       "</tr>\n",
       "<tr>\n",
       "  <th>Skew:</th>           <td> 6.955</td>  <th>  Prob(JB):          </th>  <td>    0.00</td> \n",
       "</tr>\n",
       "<tr>\n",
       "  <th>Kurtosis:</th>       <td>102.775</td> <th>  Cond. No.          </th>  <td>    616.</td> \n",
       "</tr>\n",
       "</table>"
      ],
      "text/plain": [
       "<class 'statsmodels.iolib.summary.Summary'>\n",
       "\"\"\"\n",
       "                            OLS Regression Results                            \n",
       "==============================================================================\n",
       "Dep. Variable:         Sale (Dollars)   R-squared:                       0.703\n",
       "Model:                            OLS   Adj. R-squared:                  0.702\n",
       "Method:                 Least Squares   F-statistic:                     1009.\n",
       "Date:                Sat, 15 Oct 2016   Prob (F-statistic):               0.00\n",
       "Time:                        19:13:54   Log-Likelihood:                -18026.\n",
       "No. Observations:                1283   AIC:                         3.606e+04\n",
       "Df Residuals:                    1280   BIC:                         3.607e+04\n",
       "Df Model:                           3                                         \n",
       "Covariance Type:            nonrobust                                         \n",
       "=============================================================================================\n",
       "                                coef    std err          t      P>|t|      [95.0% Conf. Int.]\n",
       "---------------------------------------------------------------------------------------------\n",
       "Bottle Volume (ml)           -0.2416      0.023    -10.546      0.000        -0.286    -0.197\n",
       "State Bottle Cost            34.1875      2.014     16.975      0.000        30.236    38.139\n",
       "Jan-March Sales (Dollars)     0.7829      0.082      9.595      0.000         0.623     0.943\n",
       "==============================================================================\n",
       "Omnibus:                     1704.476   Durbin-Watson:                   1.869\n",
       "Prob(Omnibus):                  0.000   Jarque-Bera (JB):           542524.628\n",
       "Skew:                           6.955   Prob(JB):                         0.00\n",
       "Kurtosis:                     102.775   Cond. No.                         616.\n",
       "==============================================================================\n",
       "\n",
       "Warnings:\n",
       "[1] Standard Errors assume that the covariance matrix of the errors is correctly specified.\n",
       "\"\"\""
      ]
     },
     "execution_count": 336,
     "metadata": {},
     "output_type": "execute_result"
    }
   ],
   "source": [
    "#deleted 'Store Number' this round. Seems to have no effect...\n",
    "X= year_2015[['Bottle Volume (ml)','State Bottle Cost',  \n",
    "              'Jan-March Sales (Dollars)']]\n",
    "y= year_2015[\"Sale (Dollars)\"]\n",
    "\n",
    "model = sm.OLS(y, X).fit()\n",
    "predictions = model.predict(X)\n",
    "model.summary()"
   ]
  },
  {
   "cell_type": "code",
   "execution_count": 338,
   "metadata": {
    "collapsed": false
   },
   "outputs": [
    {
     "data": {
      "text/html": [
       "<table class=\"simpletable\">\n",
       "<caption>OLS Regression Results</caption>\n",
       "<tr>\n",
       "  <th>Dep. Variable:</th>     <td>Sale (Dollars)</td>  <th>  R-squared:         </th> <td>   0.995</td> \n",
       "</tr>\n",
       "<tr>\n",
       "  <th>Model:</th>                   <td>OLS</td>       <th>  Adj. R-squared:    </th> <td>   0.995</td> \n",
       "</tr>\n",
       "<tr>\n",
       "  <th>Method:</th>             <td>Least Squares</td>  <th>  F-statistic:       </th> <td>6.763e+04</td>\n",
       "</tr>\n",
       "<tr>\n",
       "  <th>Date:</th>             <td>Sat, 15 Oct 2016</td> <th>  Prob (F-statistic):</th>  <td>  0.00</td>  \n",
       "</tr>\n",
       "<tr>\n",
       "  <th>Time:</th>                 <td>19:17:15</td>     <th>  Log-Likelihood:    </th> <td> -15366.</td> \n",
       "</tr>\n",
       "<tr>\n",
       "  <th>No. Observations:</th>      <td>  1283</td>      <th>  AIC:               </th> <td>3.074e+04</td>\n",
       "</tr>\n",
       "<tr>\n",
       "  <th>Df Residuals:</th>          <td>  1279</td>      <th>  BIC:               </th> <td>3.076e+04</td>\n",
       "</tr>\n",
       "<tr>\n",
       "  <th>Df Model:</th>              <td>     4</td>      <th>                     </th>     <td> </td>    \n",
       "</tr>\n",
       "<tr>\n",
       "  <th>Covariance Type:</th>      <td>nonrobust</td>    <th>                     </th>     <td> </td>    \n",
       "</tr>\n",
       "</table>\n",
       "<table class=\"simpletable\">\n",
       "<tr>\n",
       "              <td></td>                 <th>coef</th>     <th>std err</th>      <th>t</th>      <th>P>|t|</th> <th>[95.0% Conf. Int.]</th> \n",
       "</tr>\n",
       "<tr>\n",
       "  <th>Bottle Volume (ml)</th>        <td>   -0.1301</td> <td>    0.003</td> <td>  -44.716</td> <td> 0.000</td> <td>   -0.136    -0.124</td>\n",
       "</tr>\n",
       "<tr>\n",
       "  <th>State Bottle Cost</th>         <td>   10.7671</td> <td>    0.267</td> <td>   40.359</td> <td> 0.000</td> <td>   10.244    11.290</td>\n",
       "</tr>\n",
       "<tr>\n",
       "  <th>Volume Sold (Gallons)</th>     <td>   60.4278</td> <td>    0.214</td> <td>  281.961</td> <td> 0.000</td> <td>   60.007    60.848</td>\n",
       "</tr>\n",
       "<tr>\n",
       "  <th>Jan-March Sales (Dollars)</th> <td>    0.0251</td> <td>    0.011</td> <td>    2.362</td> <td> 0.018</td> <td>    0.004     0.046</td>\n",
       "</tr>\n",
       "</table>\n",
       "<table class=\"simpletable\">\n",
       "<tr>\n",
       "  <th>Omnibus:</th>       <td>576.395</td> <th>  Durbin-Watson:     </th>  <td>   1.956</td> \n",
       "</tr>\n",
       "<tr>\n",
       "  <th>Prob(Omnibus):</th> <td> 0.000</td>  <th>  Jarque-Bera (JB):  </th> <td>162674.542</td>\n",
       "</tr>\n",
       "<tr>\n",
       "  <th>Skew:</th>          <td> 0.830</td>  <th>  Prob(JB):          </th>  <td>    0.00</td> \n",
       "</tr>\n",
       "<tr>\n",
       "  <th>Kurtosis:</th>      <td>58.139</td>  <th>  Cond. No.          </th>  <td>    689.</td> \n",
       "</tr>\n",
       "</table>"
      ],
      "text/plain": [
       "<class 'statsmodels.iolib.summary.Summary'>\n",
       "\"\"\"\n",
       "                            OLS Regression Results                            \n",
       "==============================================================================\n",
       "Dep. Variable:         Sale (Dollars)   R-squared:                       0.995\n",
       "Model:                            OLS   Adj. R-squared:                  0.995\n",
       "Method:                 Least Squares   F-statistic:                 6.763e+04\n",
       "Date:                Sat, 15 Oct 2016   Prob (F-statistic):               0.00\n",
       "Time:                        19:17:15   Log-Likelihood:                -15366.\n",
       "No. Observations:                1283   AIC:                         3.074e+04\n",
       "Df Residuals:                    1279   BIC:                         3.076e+04\n",
       "Df Model:                           4                                         \n",
       "Covariance Type:            nonrobust                                         \n",
       "=============================================================================================\n",
       "                                coef    std err          t      P>|t|      [95.0% Conf. Int.]\n",
       "---------------------------------------------------------------------------------------------\n",
       "Bottle Volume (ml)           -0.1301      0.003    -44.716      0.000        -0.136    -0.124\n",
       "State Bottle Cost            10.7671      0.267     40.359      0.000        10.244    11.290\n",
       "Volume Sold (Gallons)        60.4278      0.214    281.961      0.000        60.007    60.848\n",
       "Jan-March Sales (Dollars)     0.0251      0.011      2.362      0.018         0.004     0.046\n",
       "==============================================================================\n",
       "Omnibus:                      576.395   Durbin-Watson:                   1.956\n",
       "Prob(Omnibus):                  0.000   Jarque-Bera (JB):           162674.542\n",
       "Skew:                           0.830   Prob(JB):                         0.00\n",
       "Kurtosis:                      58.139   Cond. No.                         689.\n",
       "==============================================================================\n",
       "\n",
       "Warnings:\n",
       "[1] Standard Errors assume that the covariance matrix of the errors is correctly specified.\n",
       "\"\"\""
      ]
     },
     "execution_count": 338,
     "metadata": {},
     "output_type": "execute_result"
    }
   ],
   "source": [
    "#this looks like a good combo to me!\n",
    "#but is it too good...\n",
    "X= year_2015[['Bottle Volume (ml)','State Bottle Cost',  \n",
    "              'Volume Sold (Gallons)', 'Jan-March Sales (Dollars)']]\n",
    "y= year_2015[\"Sale (Dollars)\"]\n",
    "\n",
    "model = sm.OLS(y, X).fit()\n",
    "predictions = model.predict(X)\n",
    "model.summary()"
   ]
  },
  {
   "cell_type": "code",
   "execution_count": 349,
   "metadata": {
    "collapsed": false
   },
   "outputs": [
    {
     "data": {
      "image/png": "[encoded data removed]",
      "text/plain": [
       "<matplotlib.figure.Figure at 0x1190b5450>"
      ]
     },
     "metadata": {},
     "output_type": "display_data"
    },
    {
     "name": "stdout",
     "output_type": "stream",
     "text": [
      "MSE: 1.00457568873e+14\n"
     ]
    }
   ],
   "source": [
    "#Let's plot the predictions versus the actual values.\n",
    "#shows mean standard error\n",
    "plt.scatter(predictions, y, s=30, c='r', marker='+', zorder=10)\n",
    "plt.xlabel(\"Predicted Values from Bottle Volume (ml), State Bottle Cost, Volume Sold (Gallons), and Jan-March Sales (Dollars)\")\n",
    "plt.ylabel(\"Actual Values Sale (Dollars)\")\n",
    "plt.show()\n",
    "print \"MSE:\", model.mse_model\n",
    "#is this model to 'fit'?"
   ]
  },
  {
   "cell_type": "code",
   "execution_count": 367,
   "metadata": {
    "collapsed": false
   },
   "outputs": [
    {
     "ename": "NameError",
     "evalue": "name 'second_pair' is not defined",
     "output_type": "error",
     "traceback": [
      "\u001b[0;31m---------------------------------------------------------------------------\u001b[0m",
      "\u001b[0;31mNameError\u001b[0m                                 Traceback (most recent call last)",
      "\u001b[0;32m<ipython-input-367-c823aebf0774>\u001b[0m in \u001b[0;36m<module>\u001b[0;34m()\u001b[0m\n\u001b[1;32m      4\u001b[0m \u001b[0;31m#     if first_pair != second_pair\u001b[0m\u001b[0;34m\u001b[0m\u001b[0;34m\u001b[0m\u001b[0m\n\u001b[1;32m      5\u001b[0m     \u001b[0my\u001b[0m\u001b[0;34m=\u001b[0m \u001b[0myear_2015\u001b[0m\u001b[0;34m[\u001b[0m\u001b[0;34m'Sale (Dollars)'\u001b[0m\u001b[0;34m]\u001b[0m\u001b[0;34m\u001b[0m\u001b[0m\n\u001b[0;32m----> 6\u001b[0;31m     \u001b[0mX\u001b[0m\u001b[0;34m=\u001b[0m \u001b[0myear_2015\u001b[0m\u001b[0;34m[\u001b[0m\u001b[0;34m[\u001b[0m\u001b[0mfirst_pair\u001b[0m\u001b[0;34m,\u001b[0m \u001b[0msecond_pair\u001b[0m\u001b[0;34m]\u001b[0m\u001b[0;34m]\u001b[0m\u001b[0;34m\u001b[0m\u001b[0m\n\u001b[0m\u001b[1;32m      7\u001b[0m     \u001b[0mmodel\u001b[0m \u001b[0;34m=\u001b[0m \u001b[0msm\u001b[0m\u001b[0;34m.\u001b[0m\u001b[0mOLS\u001b[0m\u001b[0;34m(\u001b[0m\u001b[0my\u001b[0m\u001b[0;34m,\u001b[0m\u001b[0mX\u001b[0m\u001b[0;34m)\u001b[0m\u001b[0;34m.\u001b[0m\u001b[0mfit\u001b[0m\u001b[0;34m(\u001b[0m\u001b[0;34m)\u001b[0m\u001b[0;34m\u001b[0m\u001b[0m\n\u001b[1;32m      8\u001b[0m     \u001b[0mr2_list\u001b[0m\u001b[0;34m[\u001b[0m\u001b[0;34m'%s_by_%s'\u001b[0m \u001b[0;34m%\u001b[0m \u001b[0;34m(\u001b[0m\u001b[0mfirst_pair\u001b[0m\u001b[0;34m,\u001b[0m \u001b[0msecond_pair\u001b[0m\u001b[0;34m)\u001b[0m\u001b[0;34m]\u001b[0m \u001b[0;34m=\u001b[0m \u001b[0mmodel\u001b[0m\u001b[0;34m.\u001b[0m\u001b[0mrsquared\u001b[0m\u001b[0;34m\u001b[0m\u001b[0m\n",
      "\u001b[0;31mNameError\u001b[0m: name 'second_pair' is not defined"
     ]
    }
   ],
   "source": [
    "#can I apply this loop for my data?\n",
    "r2_list = {}\n",
    "for first_pair in year_2015.columns:\n",
    "    if first_pair != second_pair\n",
    "    y= year_2015['Sale (Dollars)']\n",
    "    X= year_2015[[first_pair, second_pair]]\n",
    "    model = sm.OLS(y,X).fit()\n",
    "    r2_list['%s_by_%s' % (first_pair, second_pair)] = model.rsquared\n",
    "print len(r2_list)\n",
    "r2_list\n",
    "\n",
    "maximum = max(r2_list, key=r2_list.get)  \n",
    "print(maximum, r2_list[maximum])\n",
    "\n",
    "minimum = min(r2_list, key=r2_list.get)  \n",
    "print(minimum, r2_list[minimum])"
   ]
  },
  {
   "cell_type": "code",
   "execution_count": 262,
   "metadata": {
    "collapsed": true
   },
   "outputs": [],
   "source": [
    "#sets up various combonations of variables to be ran through regressions\n",
    "pair_list = []\n",
    "for first in range(len(year_2015.columns)):\n",
    "    for second in range(len(year_2015.columns)):\n",
    "        if first > second:\n",
    "            pair_list.append([year_2015.columns[first], year_2015.columns[second]])"
   ]
  },
  {
   "cell_type": "code",
   "execution_count": 264,
   "metadata": {
    "collapsed": false
   },
   "outputs": [
    {
     "data": {
      "text/plain": [
       "[['Bottle Volume (ml)', 'Store Number'],\n",
       " ['Sale (Dollars)', 'Store Number'],\n",
       " ['Sale (Dollars)', 'Bottle Volume (ml)'],\n",
       " ['State Bottle Cost', 'Store Number'],\n",
       " ['State Bottle Cost', 'Bottle Volume (ml)'],\n",
       " ['State Bottle Cost', 'Sale (Dollars)'],\n",
       " ['State Bottle Retail', 'Store Number'],\n",
       " ['State Bottle Retail', 'Bottle Volume (ml)'],\n",
       " ['State Bottle Retail', 'Sale (Dollars)'],\n",
       " ['State Bottle Retail', 'State Bottle Cost'],\n",
       " ['Volume Sold (Gallons)', 'Store Number'],\n",
       " ['Volume Sold (Gallons)', 'Bottle Volume (ml)'],\n",
       " ['Volume Sold (Gallons)', 'Sale (Dollars)'],\n",
       " ['Volume Sold (Gallons)', 'State Bottle Cost'],\n",
       " ['Volume Sold (Gallons)', 'State Bottle Retail'],\n",
       " ['Volume Sold (Liters)', 'Store Number'],\n",
       " ['Volume Sold (Liters)', 'Bottle Volume (ml)'],\n",
       " ['Volume Sold (Liters)', 'Sale (Dollars)'],\n",
       " ['Volume Sold (Liters)', 'State Bottle Cost'],\n",
       " ['Volume Sold (Liters)', 'State Bottle Retail'],\n",
       " ['Volume Sold (Liters)', 'Volume Sold (Gallons)'],\n",
       " ['Jan-March Sales (Dollars)', 'Store Number'],\n",
       " ['Jan-March Sales (Dollars)', 'Bottle Volume (ml)'],\n",
       " ['Jan-March Sales (Dollars)', 'Sale (Dollars)'],\n",
       " ['Jan-March Sales (Dollars)', 'State Bottle Cost'],\n",
       " ['Jan-March Sales (Dollars)', 'State Bottle Retail'],\n",
       " ['Jan-March Sales (Dollars)', 'Volume Sold (Gallons)'],\n",
       " ['Jan-March Sales (Dollars)', 'Volume Sold (Liters)']]"
      ]
     },
     "execution_count": 264,
     "metadata": {},
     "output_type": "execute_result"
    }
   ],
   "source": [
    "#trying to loop my pair list through linear regression formula\n",
    "#here are all the pairs I want to run through my regression model \n",
    "#show r^2 for each pair\n",
    "pair_list"
   ]
  },
  {
   "cell_type": "code",
   "execution_count": 312,
   "metadata": {
    "collapsed": false
   },
   "outputs": [
    {
     "data": {
      "text/plain": [
       "28"
      ]
     },
     "execution_count": 312,
     "metadata": {},
     "output_type": "execute_result"
    }
   ],
   "source": [
    "#so I will have 28 regressions to compare\n",
    "len(pair_list)"
   ]
  },
  {
   "cell_type": "code",
   "execution_count": 362,
   "metadata": {
    "collapsed": false
   },
   "outputs": [
    {
     "ename": "TypeError",
     "evalue": "list indices must be integers, not list",
     "output_type": "error",
     "traceback": [
      "\u001b[0;31m---------------------------------------------------------------------------\u001b[0m",
      "\u001b[0;31mTypeError\u001b[0m                                 Traceback (most recent call last)",
      "\u001b[0;32m<ipython-input-362-fb56d4dca338>\u001b[0m in \u001b[0;36m<module>\u001b[0;34m()\u001b[0m\n\u001b[1;32m      1\u001b[0m \u001b[0;32mfor\u001b[0m \u001b[0mi\u001b[0m \u001b[0;32min\u001b[0m \u001b[0mpair_list\u001b[0m\u001b[0;34m:\u001b[0m\u001b[0;34m\u001b[0m\u001b[0m\n\u001b[1;32m      2\u001b[0m     \u001b[0my\u001b[0m \u001b[0;34m=\u001b[0m \u001b[0myear_2015\u001b[0m\u001b[0;34m[\u001b[0m\u001b[0;34m'Sale (Dollars)'\u001b[0m\u001b[0;34m]\u001b[0m\u001b[0;34m\u001b[0m\u001b[0m\n\u001b[0;32m----> 3\u001b[0;31m     \u001b[0mX\u001b[0m \u001b[0;34m=\u001b[0m \u001b[0myear_2015\u001b[0m\u001b[0;34m[\u001b[0m\u001b[0mpair_list\u001b[0m\u001b[0;34m[\u001b[0m\u001b[0mi\u001b[0m\u001b[0;34m]\u001b[0m\u001b[0;34m]\u001b[0m\u001b[0;34m\u001b[0m\u001b[0m\n\u001b[0m\u001b[1;32m      4\u001b[0m \u001b[0;34m\u001b[0m\u001b[0m\n\u001b[1;32m      5\u001b[0m     \u001b[0mmodel\u001b[0m \u001b[0;34m=\u001b[0m \u001b[0msm\u001b[0m\u001b[0;34m.\u001b[0m\u001b[0mOLS\u001b[0m\u001b[0;34m(\u001b[0m\u001b[0my\u001b[0m\u001b[0;34m,\u001b[0m\u001b[0mX\u001b[0m\u001b[0;34m)\u001b[0m\u001b[0;34m.\u001b[0m\u001b[0mfit\u001b[0m\u001b[0;34m(\u001b[0m\u001b[0;34m)\u001b[0m\u001b[0;34m\u001b[0m\u001b[0m\n",
      "\u001b[0;31mTypeError\u001b[0m: list indices must be integers, not list"
     ]
    }
   ],
   "source": [
    "for i in pair_list:\n",
    "    y = year_2015['Sale (Dollars)']\n",
    "    X = year_2015[pair_list[i]]\n",
    "    \n",
    "    model = sm.OLS(y,X).fit()"
   ]
  },
  {
   "cell_type": "markdown",
   "metadata": {},
   "source": [
    "So, I want to pass each pair through my r^2 function to show the best score for each match up of variables.\n",
    "I also want to keep my _y-variable_ to be 'Sales (Dollars)' and one of my X's 'Jan-Mar Sales'. \n",
    "May need to rewrite loop to account for those two constants above...\n",
    "\n",
    "r2_list = {}\n",
    "for first_pair in year_2015 in df.columns:\n",
    "    if first_pair != second_pair\n",
    "    y= df['Sale (Dollars)']\n",
    "    X= df[[first_pair, second_pair, 'Jan-March Sales (Dollars)']]\n",
    "    model = sm.OLS(y,X).fit()\n",
    "    r2_list['%s_by_%s' % (first_pair)\n",
    "            get the rest from codealong notes"
   ]
  },
  {
   "cell_type": "code",
   "execution_count": 360,
   "metadata": {
    "collapsed": false
   },
   "outputs": [
    {
     "ename": "SyntaxError",
     "evalue": "invalid syntax (<ipython-input-360-b14a2f56856b>, line 3)",
     "output_type": "error",
     "traceback": [
      "\u001b[0;36m  File \u001b[0;32m\"<ipython-input-360-b14a2f56856b>\"\u001b[0;36m, line \u001b[0;32m3\u001b[0m\n\u001b[0;31m    if first_pair != second_pair\u001b[0m\n\u001b[0m                                ^\u001b[0m\n\u001b[0;31mSyntaxError\u001b[0m\u001b[0;31m:\u001b[0m invalid syntax\n"
     ]
    }
   ],
   "source": [
    "r2_list = {}\n",
    "for first_pair in year_2015.columns:\n",
    "    if first_pair != second_pair\n",
    "    y= year_2015['Sale (Dollars)']\n",
    "    X= year_2015[[first_pair, second_pair, 'Jan-March Sales (Dollars)']]\n",
    "    model = sm.OLS(y,X).fit()\n",
    "    r2_list['%s_by_%s' % (first_pair)\n",
    "            print r2_list"
   ]
  },
  {
   "cell_type": "markdown",
   "metadata": {},
   "source": [
    "Working in patsy"
   ]
  },
  {
   "cell_type": "code",
   "execution_count": null,
   "metadata": {
    "collapsed": true
   },
   "outputs": [],
   "source": [
    "#need to group all columns to be used as X variables to feed patsy my for loop\n"
   ]
  },
  {
   "cell_type": "code",
   "execution_count": 310,
   "metadata": {
    "collapsed": false
   },
   "outputs": [
    {
     "ename": "AttributeError",
     "evalue": "'DataFrame' object has no attribute 'target'",
     "output_type": "error",
     "traceback": [
      "\u001b[0;31m---------------------------------------------------------------------------\u001b[0m",
      "\u001b[0;31mAttributeError\u001b[0m                            Traceback (most recent call last)",
      "\u001b[0;32m<ipython-input-310-88349af69fdf>\u001b[0m in \u001b[0;36m<module>\u001b[0;34m()\u001b[0m\n\u001b[1;32m      1\u001b[0m \u001b[0;31m# Put the target (total sales -- 'Sale (Dollars)') in another DataFrame\u001b[0m\u001b[0;34m\u001b[0m\u001b[0;34m\u001b[0m\u001b[0m\n\u001b[0;32m----> 2\u001b[0;31m \u001b[0mtargets\u001b[0m \u001b[0;34m=\u001b[0m \u001b[0mpd\u001b[0m\u001b[0;34m.\u001b[0m\u001b[0mDataFrame\u001b[0m\u001b[0;34m(\u001b[0m\u001b[0mdata\u001b[0m\u001b[0;34m.\u001b[0m\u001b[0mtarget\u001b[0m\u001b[0;34m,\u001b[0m \u001b[0mcolumns\u001b[0m\u001b[0;34m=\u001b[0m\u001b[0;34m[\u001b[0m\u001b[0;34m\"Sale (Dollars)\"\u001b[0m\u001b[0;34m]\u001b[0m\u001b[0;34m)\u001b[0m\u001b[0;34m\u001b[0m\u001b[0m\n\u001b[0m",
      "\u001b[0;32m/Users/Driz/anaconda2/lib/python2.7/site-packages/pandas/core/generic.pyc\u001b[0m in \u001b[0;36m__getattr__\u001b[0;34m(self, name)\u001b[0m\n\u001b[1;32m   2670\u001b[0m             \u001b[0;32mif\u001b[0m \u001b[0mname\u001b[0m \u001b[0;32min\u001b[0m \u001b[0mself\u001b[0m\u001b[0;34m.\u001b[0m\u001b[0m_info_axis\u001b[0m\u001b[0;34m:\u001b[0m\u001b[0;34m\u001b[0m\u001b[0m\n\u001b[1;32m   2671\u001b[0m                 \u001b[0;32mreturn\u001b[0m \u001b[0mself\u001b[0m\u001b[0;34m[\u001b[0m\u001b[0mname\u001b[0m\u001b[0;34m]\u001b[0m\u001b[0;34m\u001b[0m\u001b[0m\n\u001b[0;32m-> 2672\u001b[0;31m             \u001b[0;32mreturn\u001b[0m \u001b[0mobject\u001b[0m\u001b[0;34m.\u001b[0m\u001b[0m__getattribute__\u001b[0m\u001b[0;34m(\u001b[0m\u001b[0mself\u001b[0m\u001b[0;34m,\u001b[0m \u001b[0mname\u001b[0m\u001b[0;34m)\u001b[0m\u001b[0;34m\u001b[0m\u001b[0m\n\u001b[0m\u001b[1;32m   2673\u001b[0m \u001b[0;34m\u001b[0m\u001b[0m\n\u001b[1;32m   2674\u001b[0m     \u001b[0;32mdef\u001b[0m \u001b[0m__setattr__\u001b[0m\u001b[0;34m(\u001b[0m\u001b[0mself\u001b[0m\u001b[0;34m,\u001b[0m \u001b[0mname\u001b[0m\u001b[0;34m,\u001b[0m \u001b[0mvalue\u001b[0m\u001b[0;34m)\u001b[0m\u001b[0;34m:\u001b[0m\u001b[0;34m\u001b[0m\u001b[0m\n",
      "\u001b[0;31mAttributeError\u001b[0m: 'DataFrame' object has no attribute 'target'"
     ]
    }
   ],
   "source": [
    "# Put the target (total sales -- 'Sale (Dollars)') in another DataFrame\n",
    "targets = pd.DataFrame(data.target, columns=[\"Sale (Dollars)\"])"
   ]
  },
  {
   "cell_type": "code",
   "execution_count": 339,
   "metadata": {
    "collapsed": false
   },
   "outputs": [],
   "source": [
    "#this way seems to work compared to above\n",
    "targets = year_2015['Sale (Dollars)']"
   ]
  },
  {
   "cell_type": "code",
   "execution_count": 353,
   "metadata": {
    "collapsed": false
   },
   "outputs": [
    {
     "ename": "SyntaxError",
     "evalue": "invalid syntax (<unknown>, line 1)",
     "output_type": "error",
     "traceback": [
      "\u001b[0;36m  File \u001b[0;32m\"<unknown>\"\u001b[0;36m, line \u001b[0;32m1\u001b[0m\n\u001b[0;31m    Bottle Volume(ml)\u001b[0m\n\u001b[0m                ^\u001b[0m\n\u001b[0;31mSyntaxError\u001b[0m\u001b[0;31m:\u001b[0m invalid syntax\n"
     ]
    }
   ],
   "source": [
    "y, X = patsy.dmatrices('Sale (Dollars) ~  Bottle Volume (ml) + Jan-March Sales (Dollars)', data=year_2015)"
   ]
  },
  {
   "cell_type": "code",
   "execution_count": 342,
   "metadata": {
    "collapsed": false
   },
   "outputs": [
    {
     "data": {
      "text/plain": [
       "count    1.283000e+03\n",
       "mean     2.162568e+05\n",
       "std      5.178018e+05\n",
       "min      8.271300e+02\n",
       "25%      3.359112e+04\n",
       "50%      7.504576e+04\n",
       "75%      1.997387e+05\n",
       "max      9.839393e+06\n",
       "Name: Sale (Dollars), dtype: float64"
      ]
     },
     "execution_count": 342,
     "metadata": {},
     "output_type": "execute_result"
    }
   ],
   "source": [
    "targets.describe()"
   ]
  },
  {
   "cell_type": "code",
   "execution_count": null,
   "metadata": {
    "collapsed": false
   },
   "outputs": [],
   "source": []
  },
  {
   "cell_type": "code",
   "execution_count": 301,
   "metadata": {
    "collapsed": false
   },
   "outputs": [
    {
     "ename": "NameError",
     "evalue": "name 'targets' is not defined",
     "output_type": "error",
     "traceback": [
      "\u001b[0;31m---------------------------------------------------------------------------\u001b[0m",
      "\u001b[0;31mNameError\u001b[0m                                 Traceback (most recent call last)",
      "\u001b[0;32m<ipython-input-301-8452a04bf4f1>\u001b[0m in \u001b[0;36m<module>\u001b[0;34m()\u001b[0m\n\u001b[1;32m      1\u001b[0m \u001b[0;31m# First let's add the targets to our data frame\u001b[0m\u001b[0;34m\u001b[0m\u001b[0;34m\u001b[0m\u001b[0m\n\u001b[0;32m----> 2\u001b[0;31m \u001b[0myear_2015\u001b[0m\u001b[0;34m[\u001b[0m\u001b[0;34m\"Sale (Dollars)\"\u001b[0m\u001b[0;34m]\u001b[0m \u001b[0;34m=\u001b[0m \u001b[0mtargets\u001b[0m\u001b[0;34m[\u001b[0m\u001b[0;34m\"Sale (Dollars)\"\u001b[0m\u001b[0;34m]\u001b[0m\u001b[0;34m\u001b[0m\u001b[0m\n\u001b[0m\u001b[1;32m      3\u001b[0m \u001b[0myear_2015\u001b[0m\u001b[0;34m.\u001b[0m\u001b[0mhead\u001b[0m\u001b[0;34m(\u001b[0m\u001b[0;34m)\u001b[0m\u001b[0;34m\u001b[0m\u001b[0m\n",
      "\u001b[0;31mNameError\u001b[0m: name 'targets' is not defined"
     ]
    }
   ],
   "source": [
    "# First let's add the targets to our data frame\n",
    "year_2015[\"Sale (Dollars)\"] = targets[\"Sale (Dollars)\"]\n",
    "year_2015.head()"
   ]
  },
  {
   "cell_type": "code",
   "execution_count": null,
   "metadata": {
    "collapsed": true
   },
   "outputs": [],
   "source": [
    "#the loop in patsy that shows multiple graphs and MSE's for dataframe\n",
    "l = list(data.feature_names)\n",
    "l2 = []\n",
    "for i in range(0, len(l)):\n",
    "   for j in range(0, len(l)):\n",
    "       if i > j:\n",
    "           l2.append(str(l[j])+\" + \"+str(l[i]))\n",
    "for i in range(0, len(l2)):\n",
    "   y, x = patsy.dmatrices(\"MEDV ~ \"+l2[i], data=df)\n",
    "   model = sm.OLS(y, x).fit()\n",
    "   predictions = model.predict(x)\n",
    "   model.summary()\n",
    "   plt.scatter(predictions, y, s=30, c='r', marker='+', zorder=10)\n",
    "   plt.xlabel(\"Predicted Values from \" + l2[i])\n",
    "   plt.ylabel(\"Actual Values MEDV\")\n",
    "   plt.show()\n",
    "   print \"MSE:\", model.mse_model\n",
    "\n",
    "\n",
    "#mirroring the above code to fit my dataframe\n",
    "l = list(data.feature_names)\n",
    "l2 = []\n",
    "for i in range(0, len(l)):\n",
    "   for j in range(0, len(l)):\n",
    "       if i > j:\n",
    "           l2.append(str(l[j])+\" + \"+str(l[i]))\n",
    "for i in range(0, len(l2)):\n",
    "   y, x = patsy.dmatrices(\"Sale (Dollars)' ~ \"+l2[i], data=year_2015)\n",
    "   model = sm.OLS(y, x).fit()\n",
    "   predictions = model.predict(x)\n",
    "   model.summary()\n",
    "   plt.scatter(predictions, y, s=30, c='r', marker='+', zorder=10)\n",
    "   plt.xlabel(\"Predicted Values from \" + l2[i])\n",
    "   plt.ylabel(\"Actual Values Sale (Dollars)\")\n",
    "   plt.show()\n",
    "   print \"MSE:\", model.mse_model"
   ]
  },
  {
   "cell_type": "code",
   "execution_count": null,
   "metadata": {
    "collapsed": false
   },
   "outputs": [],
   "source": []
  },
  {
   "cell_type": "code",
   "execution_count": null,
   "metadata": {
    "collapsed": false
   },
   "outputs": [],
   "source": []
  },
  {
   "cell_type": "code",
   "execution_count": null,
   "metadata": {
    "collapsed": false
   },
   "outputs": [],
   "source": []
  },
  {
   "cell_type": "code",
   "execution_count": null,
   "metadata": {
    "collapsed": true
   },
   "outputs": [],
   "source": [
    "#may want to plot a histogram showing the r2 scores set: y axis (0, 1), x will be each regression "
   ]
  },
  {
   "cell_type": "code",
   "execution_count": 171,
   "metadata": {
    "collapsed": false
   },
   "outputs": [
    {
     "data": {
      "text/html": [
       "<div>\n",
       "<table border=\"1\" class=\"dataframe\">\n",
       "  <thead>\n",
       "    <tr style=\"text-align: right;\">\n",
       "      <th></th>\n",
       "      <th>Store Number</th>\n",
       "      <th>Bottle Volume (ml)</th>\n",
       "      <th>Sale (Dollars)</th>\n",
       "      <th>State Bottle Cost</th>\n",
       "      <th>State Bottle Retail</th>\n",
       "      <th>Volume Sold (Gallons)</th>\n",
       "      <th>Volume Sold (Liters)</th>\n",
       "    </tr>\n",
       "  </thead>\n",
       "  <tbody>\n",
       "    <tr>\n",
       "      <th>0</th>\n",
       "      <td>2106</td>\n",
       "      <td>1126825</td>\n",
       "      <td>337804.05</td>\n",
       "      <td>12874.66</td>\n",
       "      <td>19318.38</td>\n",
       "      <td>5886.01</td>\n",
       "      <td>22277.95</td>\n",
       "    </tr>\n",
       "    <tr>\n",
       "      <th>1</th>\n",
       "      <td>2113</td>\n",
       "      <td>370750</td>\n",
       "      <td>21736.63</td>\n",
       "      <td>4181.02</td>\n",
       "      <td>6274.43</td>\n",
       "      <td>424.70</td>\n",
       "      <td>1608.07</td>\n",
       "    </tr>\n",
       "    <tr>\n",
       "      <th>2</th>\n",
       "      <td>2130</td>\n",
       "      <td>976675</td>\n",
       "      <td>306942.27</td>\n",
       "      <td>10555.70</td>\n",
       "      <td>15837.75</td>\n",
       "      <td>4801.01</td>\n",
       "      <td>18172.75</td>\n",
       "    </tr>\n",
       "    <tr>\n",
       "      <th>3</th>\n",
       "      <td>2152</td>\n",
       "      <td>319125</td>\n",
       "      <td>13752.24</td>\n",
       "      <td>2916.71</td>\n",
       "      <td>4381.51</td>\n",
       "      <td>301.97</td>\n",
       "      <td>1143.52</td>\n",
       "    </tr>\n",
       "    <tr>\n",
       "      <th>4</th>\n",
       "      <td>2178</td>\n",
       "      <td>618775</td>\n",
       "      <td>58939.90</td>\n",
       "      <td>6179.10</td>\n",
       "      <td>9276.85</td>\n",
       "      <td>1216.93</td>\n",
       "      <td>4606.64</td>\n",
       "    </tr>\n",
       "  </tbody>\n",
       "</table>\n",
       "</div>"
      ],
      "text/plain": [
       "   Store Number  Bottle Volume (ml)  Sale (Dollars)  State Bottle Cost  \\\n",
       "0          2106             1126825       337804.05           12874.66   \n",
       "1          2113              370750        21736.63            4181.02   \n",
       "2          2130              976675       306942.27           10555.70   \n",
       "3          2152              319125        13752.24            2916.71   \n",
       "4          2178              618775        58939.90            6179.10   \n",
       "\n",
       "   State Bottle Retail  Volume Sold (Gallons)  Volume Sold (Liters)  \n",
       "0             19318.38                5886.01              22277.95  \n",
       "1              6274.43                 424.70               1608.07  \n",
       "2             15837.75                4801.01              18172.75  \n",
       "3              4381.51                 301.97               1143.52  \n",
       "4              9276.85                1216.93               4606.64  "
      ]
     },
     "execution_count": 171,
     "metadata": {},
     "output_type": "execute_result"
    }
   ],
   "source": [
    "#THE START OF 2016 DATA\n",
    "year_2016 = pd.pivot_table(data[(data['Year'] == 2016)], \n",
    "                           values=['Sale (Dollars)','Volume Sold (Liters)',\n",
    "                                   'Volume Sold (Gallons)', 'State Bottle Cost',\n",
    "                                   'Bottle Volume (ml)', 'State Bottle Retail'], \n",
    "                           index='Store Number', aggfunc=np.sum)\n",
    "year_2016.reset_index(inplace=True)\n",
    "year_2016.head()"
   ]
  },
  {
   "cell_type": "code",
   "execution_count": null,
   "metadata": {
    "collapsed": false
   },
   "outputs": [],
   "source": []
  },
  {
   "cell_type": "code",
   "execution_count": 374,
   "metadata": {
    "collapsed": false
   },
   "outputs": [
    {
     "ename": "KeyError",
     "evalue": "'Year'",
     "output_type": "error",
     "traceback": [
      "\u001b[0;31m---------------------------------------------------------------------------\u001b[0m",
      "\u001b[0;31mKeyError\u001b[0m                                  Traceback (most recent call last)",
      "\u001b[0;32m<ipython-input-374-6c4f256a4bc3>\u001b[0m in \u001b[0;36m<module>\u001b[0;34m()\u001b[0m\n\u001b[1;32m      1\u001b[0m \u001b[0;31m#need to show only jan-mar per year\u001b[0m\u001b[0;34m\u001b[0m\u001b[0;34m\u001b[0m\u001b[0m\n\u001b[1;32m      2\u001b[0m \u001b[0;31m#and then add the sale column back into the above pivot table\u001b[0m\u001b[0;34m\u001b[0m\u001b[0;34m\u001b[0m\u001b[0m\n\u001b[0;32m----> 3\u001b[0;31m jan_march_2016 = pd.pivot_table(data[((data['Year'] == 2016) & (data['Month'] <= 3))], \n\u001b[0m\u001b[1;32m      4\u001b[0m                                    values=['Bottle Volume (ml)', 'State Bottle Cost (Dollars)', \n\u001b[1;32m      5\u001b[0m                                            \u001b[0;34m'State Bottle Retail (Dollars)'\u001b[0m\u001b[0;34m,\u001b[0m\u001b[0;34m\u001b[0m\u001b[0m\n",
      "\u001b[0;32m/Users/Driz/anaconda2/lib/python2.7/site-packages/pandas/core/frame.pyc\u001b[0m in \u001b[0;36m__getitem__\u001b[0;34m(self, key)\u001b[0m\n\u001b[1;32m   1995\u001b[0m             \u001b[0;32mreturn\u001b[0m \u001b[0mself\u001b[0m\u001b[0;34m.\u001b[0m\u001b[0m_getitem_multilevel\u001b[0m\u001b[0;34m(\u001b[0m\u001b[0mkey\u001b[0m\u001b[0;34m)\u001b[0m\u001b[0;34m\u001b[0m\u001b[0m\n\u001b[1;32m   1996\u001b[0m         \u001b[0;32melse\u001b[0m\u001b[0;34m:\u001b[0m\u001b[0;34m\u001b[0m\u001b[0m\n\u001b[0;32m-> 1997\u001b[0;31m             \u001b[0;32mreturn\u001b[0m \u001b[0mself\u001b[0m\u001b[0;34m.\u001b[0m\u001b[0m_getitem_column\u001b[0m\u001b[0;34m(\u001b[0m\u001b[0mkey\u001b[0m\u001b[0;34m)\u001b[0m\u001b[0;34m\u001b[0m\u001b[0m\n\u001b[0m\u001b[1;32m   1998\u001b[0m \u001b[0;34m\u001b[0m\u001b[0m\n\u001b[1;32m   1999\u001b[0m     \u001b[0;32mdef\u001b[0m \u001b[0m_getitem_column\u001b[0m\u001b[0;34m(\u001b[0m\u001b[0mself\u001b[0m\u001b[0;34m,\u001b[0m \u001b[0mkey\u001b[0m\u001b[0;34m)\u001b[0m\u001b[0;34m:\u001b[0m\u001b[0;34m\u001b[0m\u001b[0m\n",
      "\u001b[0;32m/Users/Driz/anaconda2/lib/python2.7/site-packages/pandas/core/frame.pyc\u001b[0m in \u001b[0;36m_getitem_column\u001b[0;34m(self, key)\u001b[0m\n\u001b[1;32m   2002\u001b[0m         \u001b[0;31m# get column\u001b[0m\u001b[0;34m\u001b[0m\u001b[0;34m\u001b[0m\u001b[0m\n\u001b[1;32m   2003\u001b[0m         \u001b[0;32mif\u001b[0m \u001b[0mself\u001b[0m\u001b[0;34m.\u001b[0m\u001b[0mcolumns\u001b[0m\u001b[0;34m.\u001b[0m\u001b[0mis_unique\u001b[0m\u001b[0;34m:\u001b[0m\u001b[0;34m\u001b[0m\u001b[0m\n\u001b[0;32m-> 2004\u001b[0;31m             \u001b[0;32mreturn\u001b[0m \u001b[0mself\u001b[0m\u001b[0;34m.\u001b[0m\u001b[0m_get_item_cache\u001b[0m\u001b[0;34m(\u001b[0m\u001b[0mkey\u001b[0m\u001b[0;34m)\u001b[0m\u001b[0;34m\u001b[0m\u001b[0m\n\u001b[0m\u001b[1;32m   2005\u001b[0m \u001b[0;34m\u001b[0m\u001b[0m\n\u001b[1;32m   2006\u001b[0m         \u001b[0;31m# duplicate columns & possible reduce dimensionality\u001b[0m\u001b[0;34m\u001b[0m\u001b[0;34m\u001b[0m\u001b[0m\n",
      "\u001b[0;32m/Users/Driz/anaconda2/lib/python2.7/site-packages/pandas/core/generic.pyc\u001b[0m in \u001b[0;36m_get_item_cache\u001b[0;34m(self, item)\u001b[0m\n\u001b[1;32m   1348\u001b[0m         \u001b[0mres\u001b[0m \u001b[0;34m=\u001b[0m \u001b[0mcache\u001b[0m\u001b[0;34m.\u001b[0m\u001b[0mget\u001b[0m\u001b[0;34m(\u001b[0m\u001b[0mitem\u001b[0m\u001b[0;34m)\u001b[0m\u001b[0;34m\u001b[0m\u001b[0m\n\u001b[1;32m   1349\u001b[0m         \u001b[0;32mif\u001b[0m \u001b[0mres\u001b[0m \u001b[0;32mis\u001b[0m \u001b[0mNone\u001b[0m\u001b[0;34m:\u001b[0m\u001b[0;34m\u001b[0m\u001b[0m\n\u001b[0;32m-> 1350\u001b[0;31m             \u001b[0mvalues\u001b[0m \u001b[0;34m=\u001b[0m \u001b[0mself\u001b[0m\u001b[0;34m.\u001b[0m\u001b[0m_data\u001b[0m\u001b[0;34m.\u001b[0m\u001b[0mget\u001b[0m\u001b[0;34m(\u001b[0m\u001b[0mitem\u001b[0m\u001b[0;34m)\u001b[0m\u001b[0;34m\u001b[0m\u001b[0m\n\u001b[0m\u001b[1;32m   1351\u001b[0m             \u001b[0mres\u001b[0m \u001b[0;34m=\u001b[0m \u001b[0mself\u001b[0m\u001b[0;34m.\u001b[0m\u001b[0m_box_item_values\u001b[0m\u001b[0;34m(\u001b[0m\u001b[0mitem\u001b[0m\u001b[0;34m,\u001b[0m \u001b[0mvalues\u001b[0m\u001b[0;34m)\u001b[0m\u001b[0;34m\u001b[0m\u001b[0m\n\u001b[1;32m   1352\u001b[0m             \u001b[0mcache\u001b[0m\u001b[0;34m[\u001b[0m\u001b[0mitem\u001b[0m\u001b[0;34m]\u001b[0m \u001b[0;34m=\u001b[0m \u001b[0mres\u001b[0m\u001b[0;34m\u001b[0m\u001b[0m\n",
      "\u001b[0;32m/Users/Driz/anaconda2/lib/python2.7/site-packages/pandas/core/internals.pyc\u001b[0m in \u001b[0;36mget\u001b[0;34m(self, item, fastpath)\u001b[0m\n\u001b[1;32m   3288\u001b[0m \u001b[0;34m\u001b[0m\u001b[0m\n\u001b[1;32m   3289\u001b[0m             \u001b[0;32mif\u001b[0m \u001b[0;32mnot\u001b[0m \u001b[0misnull\u001b[0m\u001b[0;34m(\u001b[0m\u001b[0mitem\u001b[0m\u001b[0;34m)\u001b[0m\u001b[0;34m:\u001b[0m\u001b[0;34m\u001b[0m\u001b[0m\n\u001b[0;32m-> 3290\u001b[0;31m                 \u001b[0mloc\u001b[0m \u001b[0;34m=\u001b[0m \u001b[0mself\u001b[0m\u001b[0;34m.\u001b[0m\u001b[0mitems\u001b[0m\u001b[0;34m.\u001b[0m\u001b[0mget_loc\u001b[0m\u001b[0;34m(\u001b[0m\u001b[0mitem\u001b[0m\u001b[0;34m)\u001b[0m\u001b[0;34m\u001b[0m\u001b[0m\n\u001b[0m\u001b[1;32m   3291\u001b[0m             \u001b[0;32melse\u001b[0m\u001b[0;34m:\u001b[0m\u001b[0;34m\u001b[0m\u001b[0m\n\u001b[1;32m   3292\u001b[0m                 \u001b[0mindexer\u001b[0m \u001b[0;34m=\u001b[0m \u001b[0mnp\u001b[0m\u001b[0;34m.\u001b[0m\u001b[0marange\u001b[0m\u001b[0;34m(\u001b[0m\u001b[0mlen\u001b[0m\u001b[0;34m(\u001b[0m\u001b[0mself\u001b[0m\u001b[0;34m.\u001b[0m\u001b[0mitems\u001b[0m\u001b[0;34m)\u001b[0m\u001b[0;34m)\u001b[0m\u001b[0;34m[\u001b[0m\u001b[0misnull\u001b[0m\u001b[0;34m(\u001b[0m\u001b[0mself\u001b[0m\u001b[0;34m.\u001b[0m\u001b[0mitems\u001b[0m\u001b[0;34m)\u001b[0m\u001b[0;34m]\u001b[0m\u001b[0;34m\u001b[0m\u001b[0m\n",
      "\u001b[0;32m/Users/Driz/anaconda2/lib/python2.7/site-packages/pandas/indexes/base.pyc\u001b[0m in \u001b[0;36mget_loc\u001b[0;34m(self, key, method, tolerance)\u001b[0m\n\u001b[1;32m   1945\u001b[0m                 \u001b[0;32mreturn\u001b[0m \u001b[0mself\u001b[0m\u001b[0;34m.\u001b[0m\u001b[0m_engine\u001b[0m\u001b[0;34m.\u001b[0m\u001b[0mget_loc\u001b[0m\u001b[0;34m(\u001b[0m\u001b[0mkey\u001b[0m\u001b[0;34m)\u001b[0m\u001b[0;34m\u001b[0m\u001b[0m\n\u001b[1;32m   1946\u001b[0m             \u001b[0;32mexcept\u001b[0m \u001b[0mKeyError\u001b[0m\u001b[0;34m:\u001b[0m\u001b[0;34m\u001b[0m\u001b[0m\n\u001b[0;32m-> 1947\u001b[0;31m                 \u001b[0;32mreturn\u001b[0m \u001b[0mself\u001b[0m\u001b[0;34m.\u001b[0m\u001b[0m_engine\u001b[0m\u001b[0;34m.\u001b[0m\u001b[0mget_loc\u001b[0m\u001b[0;34m(\u001b[0m\u001b[0mself\u001b[0m\u001b[0;34m.\u001b[0m\u001b[0m_maybe_cast_indexer\u001b[0m\u001b[0;34m(\u001b[0m\u001b[0mkey\u001b[0m\u001b[0;34m)\u001b[0m\u001b[0;34m)\u001b[0m\u001b[0;34m\u001b[0m\u001b[0m\n\u001b[0m\u001b[1;32m   1948\u001b[0m \u001b[0;34m\u001b[0m\u001b[0m\n\u001b[1;32m   1949\u001b[0m         \u001b[0mindexer\u001b[0m \u001b[0;34m=\u001b[0m \u001b[0mself\u001b[0m\u001b[0;34m.\u001b[0m\u001b[0mget_indexer\u001b[0m\u001b[0;34m(\u001b[0m\u001b[0;34m[\u001b[0m\u001b[0mkey\u001b[0m\u001b[0;34m]\u001b[0m\u001b[0;34m,\u001b[0m \u001b[0mmethod\u001b[0m\u001b[0;34m=\u001b[0m\u001b[0mmethod\u001b[0m\u001b[0;34m,\u001b[0m \u001b[0mtolerance\u001b[0m\u001b[0;34m=\u001b[0m\u001b[0mtolerance\u001b[0m\u001b[0;34m)\u001b[0m\u001b[0;34m\u001b[0m\u001b[0m\n",
      "\u001b[0;32mpandas/index.pyx\u001b[0m in \u001b[0;36mpandas.index.IndexEngine.get_loc (pandas/index.c:4154)\u001b[0;34m()\u001b[0m\n",
      "\u001b[0;32mpandas/index.pyx\u001b[0m in \u001b[0;36mpandas.index.IndexEngine.get_loc (pandas/index.c:4018)\u001b[0;34m()\u001b[0m\n",
      "\u001b[0;32mpandas/hashtable.pyx\u001b[0m in \u001b[0;36mpandas.hashtable.PyObjectHashTable.get_item (pandas/hashtable.c:12368)\u001b[0;34m()\u001b[0m\n",
      "\u001b[0;32mpandas/hashtable.pyx\u001b[0m in \u001b[0;36mpandas.hashtable.PyObjectHashTable.get_item (pandas/hashtable.c:12322)\u001b[0;34m()\u001b[0m\n",
      "\u001b[0;31mKeyError\u001b[0m: 'Year'"
     ]
    }
   ],
   "source": [
    "#need to show only jan-mar per year\n",
    "#and then add the sale column back into the above pivot table\n",
    "jan_march_2016 = pd.pivot_table(data[((data['Year'] == 2016) & (data['Month'] <= 3))], \n",
    "                                   values=['Bottle Volume (ml)', 'State Bottle Cost (Dollars)', \n",
    "                                           'State Bottle Retail (Dollars)', \n",
    "                                           'Bottles Sold', 'Sale (Dollars)', 'Volume Sold (Liters)', \n",
    "                                           'Volume Sold (Gallons)'], \n",
    "                                   index='Store Number', aggfunc=np.sum)\n",
    "jan_march_2016.reset_index(inplace=True)\n",
    "jan_march_2016.head()"
   ]
  },
  {
   "cell_type": "code",
   "execution_count": 370,
   "metadata": {
    "collapsed": false
   },
   "outputs": [
    {
     "ename": "NameError",
     "evalue": "name 'jan_march_2016' is not defined",
     "output_type": "error",
     "traceback": [
      "\u001b[0;31m---------------------------------------------------------------------------\u001b[0m",
      "\u001b[0;31mNameError\u001b[0m                                 Traceback (most recent call last)",
      "\u001b[0;32m<ipython-input-370-5f94553a3b28>\u001b[0m in \u001b[0;36m<module>\u001b[0;34m()\u001b[0m\n\u001b[1;32m      1\u001b[0m \u001b[0;31m#added Jan-Mar column as required\u001b[0m\u001b[0;34m\u001b[0m\u001b[0;34m\u001b[0m\u001b[0m\n\u001b[0;32m----> 2\u001b[0;31m \u001b[0myear_2016\u001b[0m\u001b[0;34m[\u001b[0m\u001b[0;34m'Jan-March Sales (Dollars)'\u001b[0m\u001b[0;34m]\u001b[0m \u001b[0;34m=\u001b[0m \u001b[0mjan_march_2016\u001b[0m\u001b[0;34m[\u001b[0m\u001b[0;34m'Sale (Dollars)'\u001b[0m\u001b[0;34m]\u001b[0m\u001b[0;34m\u001b[0m\u001b[0m\n\u001b[0m\u001b[1;32m      3\u001b[0m \u001b[0myear_2016\u001b[0m\u001b[0;34m.\u001b[0m\u001b[0mhead\u001b[0m\u001b[0;34m(\u001b[0m\u001b[0;34m)\u001b[0m\u001b[0;34m\u001b[0m\u001b[0m\n",
      "\u001b[0;31mNameError\u001b[0m: name 'jan_march_2016' is not defined"
     ]
    }
   ],
   "source": [
    "#added Jan-Mar column as required\n",
    "year_2016['Jan-March Sales (Dollars)'] = jan_march_2016['Sale (Dollars)']\n",
    "year_2016.head()"
   ]
  },
  {
   "cell_type": "code",
   "execution_count": 141,
   "metadata": {
    "collapsed": false
   },
   "outputs": [],
   "source": []
  },
  {
   "cell_type": "code",
   "execution_count": 147,
   "metadata": {
    "collapsed": false
   },
   "outputs": [],
   "source": []
  },
  {
   "cell_type": "code",
   "execution_count": null,
   "metadata": {
    "collapsed": true
   },
   "outputs": [],
   "source": []
  }
 ],
 "metadata": {
  "anaconda-cloud": {},
  "kernelspec": {
   "display_name": "Python [Root]",
   "language": "python",
   "name": "Python [Root]"
  },
  "language_info": {
   "codemirror_mode": {
    "name": "ipython",
    "version": 2
   },
   "file_extension": ".py",
   "mimetype": "text/x-python",
   "name": "python",
   "nbconvert_exporter": "python",
   "pygments_lexer": "ipython2",
   "version": "2.7.12"
  }
 },
 "nbformat": 4,
 "nbformat_minor": 0
}
